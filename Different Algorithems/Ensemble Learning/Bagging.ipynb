{
 "cells": [
  {
   "cell_type": "code",
   "execution_count": 1,
   "id": "ea8f332b",
   "metadata": {},
   "outputs": [],
   "source": [
    "import numpy as np\n",
    "from sklearn.datasets import load_breast_cancer\n",
    "from sklearn.model_selection import train_test_split\n",
    "from sklearn.tree import DecisionTreeClassifier \n",
    "from sklearn.ensemble import BaggingClassifier \n",
    "from sklearn.metrics import accuracy_score, confusion_matrix, classification_report"
   ]
  },
  {
   "cell_type": "code",
   "execution_count": 2,
   "id": "cf9dea08",
   "metadata": {},
   "outputs": [
    {
     "name": "stdout",
     "output_type": "stream",
     "text": [
      "Loading the Breast Cancer dataset...\n",
      "Dataset loaded. Number of samples: 569, Number of features: 30\n",
      "Target classes: ['malignant' 'benign']\n"
     ]
    }
   ],
   "source": [
    "# Load the Dataset\n",
    "\n",
    "print(\"Loading the Breast Cancer dataset...\")\n",
    "data = load_breast_cancer()\n",
    "X = data.data\n",
    "y = data.target\n",
    "print(f\"Dataset loaded. Number of samples: {X.shape[0]}, Number of features: {X.shape[1]}\")\n",
    "print(f\"Target classes: {data.target_names}\")\n"
   ]
  },
  {
   "cell_type": "code",
   "execution_count": 3,
   "id": "94602fe4",
   "metadata": {},
   "outputs": [
    {
     "name": "stdout",
     "output_type": "stream",
     "text": [
      "\n",
      "Splitting data into training and testing sets...\n",
      "Training samples: 398, Testing samples: 171\n"
     ]
    }
   ],
   "source": [
    "#. Split the Data into Training and Testing Sets\n",
    "\n",
    "print(\"\\nSplitting data into training and testing sets...\")\n",
    "X_train, X_test, y_train, y_test = train_test_split(X, y, test_size=0.3, random_state=42)\n",
    "print(f\"Training samples: {X_train.shape[0]}, Testing samples: {X_test.shape[0]}\")"
   ]
  },
  {
   "cell_type": "code",
   "execution_count": 4,
   "id": "c0589ab9",
   "metadata": {},
   "outputs": [
    {
     "name": "stdout",
     "output_type": "stream",
     "text": [
      "\n",
      "Defining the base estimator (Decision Tree)...\n"
     ]
    }
   ],
   "source": [
    "# Define the Base Estimator\n",
    "\n",
    "print(\"\\nDefining the base estimator (Decision Tree)...\")\n",
    "base_estimator = DecisionTreeClassifier(random_state=42)"
   ]
  },
  {
   "cell_type": "code",
   "execution_count": 6,
   "id": "064ffdec",
   "metadata": {},
   "outputs": [
    {
     "name": "stdout",
     "output_type": "stream",
     "text": [
      "\n",
      "Creating the Bagging Classifier (Ensemble Model)...\n",
      "Training the Bagging Classifier...\n",
      "Bagging model training complete.\n"
     ]
    }
   ],
   "source": [
    "# Create the Bagging Classifier\n",
    "print(\"\\nCreating the Bagging Classifier (Ensemble Model)...\")\n",
    "bagging_model = BaggingClassifier(\n",
    "    estimator=base_estimator,\n",
    "    n_estimators=100, \n",
    "    max_samples=0.8, \n",
    "    random_state=42\n",
    ")\n",
    "\n",
    "# Train the Bagging Model\n",
    "print(\"Training the Bagging Classifier...\")\n",
    "bagging_model.fit(X_train, y_train)\n",
    "print(\"Bagging model training complete.\")\n"
   ]
  },
  {
   "cell_type": "code",
   "execution_count": 7,
   "id": "f88d8719",
   "metadata": {},
   "outputs": [
    {
     "name": "stdout",
     "output_type": "stream",
     "text": [
      "\n",
      "Making predictions with the Bagging Classifier on the test set...\n"
     ]
    }
   ],
   "source": [
    "# Make Predictions with the Bagging Model\n",
    "print(\"\\nMaking predictions with the Bagging Classifier on the test set...\")\n",
    "y_pred_bagging = bagging_model.predict(X_test)"
   ]
  },
  {
   "cell_type": "code",
   "execution_count": 8,
   "id": "223dc94c",
   "metadata": {},
   "outputs": [
    {
     "data": {
      "text/plain": [
       "array([1, 0, 0, 1, 1, 0, 0, 0, 0, 1, 1, 0, 1, 0, 1, 0, 1, 1, 1, 0, 1, 1,\n",
       "       0, 1, 1, 1, 1, 1, 1, 0, 1, 1, 1, 1, 1, 1, 0, 1, 0, 1, 1, 0, 1, 1,\n",
       "       1, 1, 1, 1, 1, 1, 0, 0, 1, 1, 1, 1, 1, 0, 0, 1, 1, 0, 0, 1, 1, 1,\n",
       "       0, 0, 1, 1, 0, 0, 1, 0, 1, 1, 1, 1, 1, 1, 0, 1, 1, 0, 0, 0, 0, 0,\n",
       "       1, 1, 1, 1, 1, 1, 1, 1, 0, 0, 1, 0, 0, 1, 0, 0, 1, 1, 1, 0, 0, 1,\n",
       "       0, 1, 1, 0, 1, 0, 1, 1, 1, 0, 1, 1, 1, 0, 1, 0, 0, 1, 1, 0, 0, 0,\n",
       "       1, 1, 1, 0, 0, 1, 1, 0, 1, 0, 1, 1, 0, 1, 0, 0, 0, 1, 0, 1, 1, 1,\n",
       "       1, 0, 0, 1, 1, 1, 1, 1, 1, 1, 1, 1, 1, 1, 1, 0, 1])"
      ]
     },
     "execution_count": 8,
     "metadata": {},
     "output_type": "execute_result"
    }
   ],
   "source": [
    "y_pred_bagging"
   ]
  },
  {
   "cell_type": "code",
   "execution_count": 9,
   "id": "b76ba11d",
   "metadata": {},
   "outputs": [
    {
     "name": "stdout",
     "output_type": "stream",
     "text": [
      "\n",
      "Bagging Model Accuracy: 0.9591\n",
      "\n",
      "Bagging Model Confusion Matrix:\n",
      "[[ 59   4]\n",
      " [  3 105]]\n",
      "\n",
      "Bagging Model Type 1 Error (False Positives): 4\n",
      "Bagging Model Type 2 Error (False Negatives): 3\n"
     ]
    }
   ],
   "source": [
    "# Evaluate the Bagging Model Performance\n",
    "\n",
    "# Accuracy Score\n",
    "accuracy_bagging = accuracy_score(y_test, y_pred_bagging)\n",
    "print(f\"\\nBagging Model Accuracy: {accuracy_bagging:.4f}\")\n",
    "\n",
    "# Confusion Matrix\n",
    "cm_bagging = confusion_matrix(y_test, y_pred_bagging)\n",
    "print(\"\\nBagging Model Confusion Matrix:\")\n",
    "print(cm_bagging)\n",
    "\n",
    "# Extracting Type 1 and Type 2 Errors\n",
    "# Assuming class 0 = malignant (negative), class 1 = benign (positive)\n",
    "type_1_error_bagging = cm_bagging[0, 1]\n",
    "print(f\"\\nBagging Model Type 1 Error (False Positives): {type_1_error_bagging}\")\n",
    "type_2_error_bagging = cm_bagging[1, 0]\n",
    "print(f\"Bagging Model Type 2 Error (False Negatives): {type_2_error_bagging}\")"
   ]
  },
  {
   "cell_type": "code",
   "execution_count": 10,
   "id": "ce86f2bd",
   "metadata": {},
   "outputs": [
    {
     "name": "stdout",
     "output_type": "stream",
     "text": [
      "\n",
      "Bagging Model Classification Report (Precision, Recall, F1-Score):\n",
      "              precision    recall  f1-score   support\n",
      "\n",
      "   malignant       0.95      0.94      0.94        63\n",
      "      benign       0.96      0.97      0.97       108\n",
      "\n",
      "    accuracy                           0.96       171\n",
      "   macro avg       0.96      0.95      0.96       171\n",
      "weighted avg       0.96      0.96      0.96       171\n",
      "\n"
     ]
    }
   ],
   "source": [
    "# Precision, Recall, and F1-Score\n",
    "print(\"\\nBagging Model Classification Report (Precision, Recall, F1-Score):\")\n",
    "print(classification_report(y_test, y_pred_bagging, target_names=data.target_names))"
   ]
  }
 ],
 "metadata": {
  "kernelspec": {
   "display_name": "Master",
   "language": "python",
   "name": "python3"
  },
  "language_info": {
   "codemirror_mode": {
    "name": "ipython",
    "version": 3
   },
   "file_extension": ".py",
   "mimetype": "text/x-python",
   "name": "python",
   "nbconvert_exporter": "python",
   "pygments_lexer": "ipython3",
   "version": "3.11.4"
  }
 },
 "nbformat": 4,
 "nbformat_minor": 5
}
