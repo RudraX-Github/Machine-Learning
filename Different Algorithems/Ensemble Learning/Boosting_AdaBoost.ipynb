{
 "cells": [
  {
   "cell_type": "code",
   "execution_count": 1,
   "id": "2612d1d0",
   "metadata": {},
   "outputs": [],
   "source": [
    "import numpy as np\n",
    "from sklearn.datasets import load_breast_cancer\n",
    "from sklearn.model_selection import train_test_split\n",
    "from sklearn.ensemble import AdaBoostClassifier # Import AdaBoostClassifier\n",
    "from sklearn.tree import DecisionTreeClassifier # AdaBoost often uses Decision Stumps as base learners\n",
    "from sklearn.metrics import accuracy_score, confusion_matrix, classification_report"
   ]
  },
  {
   "cell_type": "code",
   "execution_count": 2,
   "id": "ef5b5992",
   "metadata": {},
   "outputs": [
    {
     "name": "stdout",
     "output_type": "stream",
     "text": [
      "Loading the Breast Cancer dataset...\n",
      "Dataset loaded. Number of samples: 569, Number of features: 30\n",
      "Target classes: ['malignant' 'benign']\n"
     ]
    }
   ],
   "source": [
    "# Load the Dataset\n",
    "\n",
    "print(\"Loading the Breast Cancer dataset...\")\n",
    "data = load_breast_cancer()\n",
    "X = data.data\n",
    "y = data.target\n",
    "print(f\"Dataset loaded. Number of samples: {X.shape[0]}, Number of features: {X.shape[1]}\")\n",
    "print(f\"Target classes: {data.target_names}\")"
   ]
  },
  {
   "cell_type": "code",
   "execution_count": 3,
   "id": "62ecd197",
   "metadata": {},
   "outputs": [
    {
     "name": "stdout",
     "output_type": "stream",
     "text": [
      "\n",
      "Splitting data into training and testing sets...\n",
      "Training samples: 398, Testing samples: 171\n"
     ]
    }
   ],
   "source": [
    "# Split the Data into Training and Testing Sets\n",
    "\n",
    "print(\"\\nSplitting data into training and testing sets...\")\n",
    "X_train, X_test, y_train, y_test = train_test_split(X, y, test_size=0.3, random_state=42)\n",
    "print(f\"Training samples: {X_train.shape[0]}, Testing samples: {X_test.shape[0]}\")\n"
   ]
  },
  {
   "cell_type": "code",
   "execution_count": 5,
   "id": "a546011f",
   "metadata": {},
   "outputs": [
    {
     "name": "stdout",
     "output_type": "stream",
     "text": [
      "\n",
      "Defining the base estimator (Decision Stump)...\n",
      "\n",
      "Creating the AdaBoost Classifier...\n"
     ]
    }
   ],
   "source": [
    "# Define the Base Estimator (Weak Learner)\n",
    "print(\"\\nDefining the base estimator (Decision Stump)...\")\n",
    "base_estimator = DecisionTreeClassifier(max_depth=1, random_state=42)\n",
    "\n",
    "# Create the AdaBoost Classifier\n",
    "\n",
    "print(\"\\nCreating the AdaBoost Classifier...\")\n",
    "adaboost_model = AdaBoostClassifier(\n",
    "    estimator=base_estimator,\n",
    "    n_estimators=100, # Number of boosting stages\n",
    "    learning_rate=1.0, # Contribution of each classifier\n",
    "    random_state=42\n",
    ")"
   ]
  },
  {
   "cell_type": "code",
   "execution_count": 6,
   "id": "25ebb21b",
   "metadata": {},
   "outputs": [
    {
     "name": "stdout",
     "output_type": "stream",
     "text": [
      "Training the AdaBoost Classifier...\n",
      "AdaBoost model training complete.\n"
     ]
    }
   ],
   "source": [
    "# Train the AdaBoost Model\n",
    "print(\"Training the AdaBoost Classifier...\")\n",
    "adaboost_model.fit(X_train, y_train)\n",
    "print(\"AdaBoost model training complete.\")\n"
   ]
  },
  {
   "cell_type": "code",
   "execution_count": 7,
   "id": "aa80f7a8",
   "metadata": {},
   "outputs": [
    {
     "name": "stdout",
     "output_type": "stream",
     "text": [
      "\n",
      "Making predictions with the AdaBoost Classifier on the test set...\n"
     ]
    }
   ],
   "source": [
    "# Make Predictions with the AdaBoost Model\n",
    "print(\"\\nMaking predictions with the AdaBoost Classifier on the test set...\")\n",
    "y_pred_adaboost = adaboost_model.predict(X_test)"
   ]
  },
  {
   "cell_type": "code",
   "execution_count": 8,
   "id": "070725c9",
   "metadata": {},
   "outputs": [
    {
     "data": {
      "text/plain": [
       "array([1, 0, 0, 1, 1, 0, 0, 0, 0, 1, 1, 0, 1, 0, 1, 0, 1, 1, 1, 0, 1, 1,\n",
       "       0, 1, 1, 1, 1, 1, 1, 0, 1, 1, 1, 1, 1, 1, 0, 1, 0, 1, 1, 0, 1, 1,\n",
       "       1, 1, 1, 1, 1, 1, 0, 0, 1, 1, 1, 1, 1, 0, 0, 1, 1, 0, 0, 1, 1, 1,\n",
       "       0, 0, 1, 1, 0, 0, 1, 0, 1, 1, 1, 0, 1, 1, 0, 1, 0, 0, 0, 0, 0, 0,\n",
       "       1, 1, 1, 0, 1, 1, 1, 1, 0, 0, 1, 0, 0, 1, 0, 0, 1, 1, 1, 0, 1, 1,\n",
       "       0, 1, 1, 0, 1, 0, 1, 1, 1, 0, 0, 1, 1, 0, 1, 0, 0, 1, 1, 0, 0, 0,\n",
       "       1, 1, 1, 0, 0, 1, 1, 0, 1, 0, 1, 1, 0, 1, 0, 0, 0, 1, 0, 1, 1, 1,\n",
       "       1, 0, 0, 1, 1, 1, 1, 1, 1, 1, 0, 1, 1, 1, 1, 0, 1])"
      ]
     },
     "execution_count": 8,
     "metadata": {},
     "output_type": "execute_result"
    }
   ],
   "source": [
    "y_pred_adaboost"
   ]
  },
  {
   "cell_type": "code",
   "execution_count": 9,
   "id": "cbea5e0b",
   "metadata": {},
   "outputs": [
    {
     "name": "stdout",
     "output_type": "stream",
     "text": [
      "\n",
      "AdaBoost Model Accuracy: 0.9708\n",
      "\n",
      "AdaBoost Model Confusion Matrix:\n",
      "[[ 62   1]\n",
      " [  4 104]]\n",
      "\n",
      "AdaBoost Model Type 1 Error (False Positives): 1\n",
      "AdaBoost Model Type 2 Error (False Negatives): 4\n"
     ]
    }
   ],
   "source": [
    "# Evaluate the AdaBoost Model Performance\n",
    "\n",
    "# Accuracy Score\n",
    "accuracy_adaboost = accuracy_score(y_test, y_pred_adaboost)\n",
    "print(f\"\\nAdaBoost Model Accuracy: {accuracy_adaboost:.4f}\")\n",
    "\n",
    "# Confusion Matrix\n",
    "cm_adaboost = confusion_matrix(y_test, y_pred_adaboost)\n",
    "print(\"\\nAdaBoost Model Confusion Matrix:\")\n",
    "print(cm_adaboost)\n",
    "\n",
    "# Extracting Type 1 and Type 2 Errors\n",
    "# Assuming class 0 = malignant (negative), class 1 = benign (positive)\n",
    "type_1_error_adaboost = cm_adaboost[0, 1]\n",
    "print(f\"\\nAdaBoost Model Type 1 Error (False Positives): {type_1_error_adaboost}\")\n",
    "type_2_error_adaboost = cm_adaboost[1, 0]\n",
    "print(f\"AdaBoost Model Type 2 Error (False Negatives): {type_2_error_adaboost}\")"
   ]
  },
  {
   "cell_type": "code",
   "execution_count": 10,
   "id": "80559842",
   "metadata": {},
   "outputs": [
    {
     "name": "stdout",
     "output_type": "stream",
     "text": [
      "\n",
      "AdaBoost Model Classification Report (Precision, Recall, F1-Score):\n",
      "              precision    recall  f1-score   support\n",
      "\n",
      "   malignant       0.94      0.98      0.96        63\n",
      "      benign       0.99      0.96      0.98       108\n",
      "\n",
      "    accuracy                           0.97       171\n",
      "   macro avg       0.96      0.97      0.97       171\n",
      "weighted avg       0.97      0.97      0.97       171\n",
      "\n"
     ]
    }
   ],
   "source": [
    "# Precision, Recall, and F1-Score\n",
    "print(\"\\nAdaBoost Model Classification Report (Precision, Recall, F1-Score):\")\n",
    "print(classification_report(y_test, y_pred_adaboost, target_names=data.target_names))\n"
   ]
  },
  {
   "cell_type": "code",
   "execution_count": null,
   "id": "8edf20eb",
   "metadata": {},
   "outputs": [],
   "source": []
  }
 ],
 "metadata": {
  "kernelspec": {
   "display_name": "Master",
   "language": "python",
   "name": "python3"
  },
  "language_info": {
   "codemirror_mode": {
    "name": "ipython",
    "version": 3
   },
   "file_extension": ".py",
   "mimetype": "text/x-python",
   "name": "python",
   "nbconvert_exporter": "python",
   "pygments_lexer": "ipython3",
   "version": "3.11.4"
  }
 },
 "nbformat": 4,
 "nbformat_minor": 5
}
