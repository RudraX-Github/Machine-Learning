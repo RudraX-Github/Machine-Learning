{
 "cells": [
  {
   "cell_type": "code",
   "execution_count": null,
   "id": "65eed394",
   "metadata": {},
   "outputs": [],
   "source": [
    "import numpy as np\n",
    "from sklearn.datasets import load_breast_cancer\n",
    "from sklearn.model_selection import train_test_split\n",
    "from sklearn.linear_model import LogisticRegression\n",
    "from sklearn.tree import DecisionTreeClassifier\n",
    "from sklearn.neighbors import KNeighborsClassifier\n",
    "from sklearn.ensemble import VotingClassifier\n",
    "from sklearn.metrics import accuracy_score, confusion_matrix, classification_report"
   ]
  },
  {
   "cell_type": "code",
   "execution_count": 2,
   "id": "f3ea7724",
   "metadata": {},
   "outputs": [
    {
     "name": "stdout",
     "output_type": "stream",
     "text": [
      "Loading the Breast Cancer dataset...\n",
      "Dataset loaded. Number of samples: 569, Number of features: 30\n",
      "Target classes: ['malignant' 'benign']\n"
     ]
    }
   ],
   "source": [
    "# Load the Dataset\n",
    "\n",
    "print(\"Loading the Breast Cancer dataset...\")\n",
    "data = load_breast_cancer()\n",
    "X = data.data\n",
    "y = data.target\n",
    "print(f\"Dataset loaded. Number of samples: {X.shape[0]}, Number of features: {X.shape[1]}\")\n",
    "print(f\"Target classes: {data.target_names}\")\n"
   ]
  },
  {
   "cell_type": "code",
   "execution_count": 3,
   "id": "593055ce",
   "metadata": {},
   "outputs": [
    {
     "name": "stdout",
     "output_type": "stream",
     "text": [
      "\n",
      "Splitting data into training and testing sets...\n",
      "Training samples: 398, Testing samples: 171\n"
     ]
    }
   ],
   "source": [
    "# Split the Data into Training and Testing Sets\n",
    "\n",
    "print(\"\\nSplitting data into training and testing sets...\")\n",
    "X_train, X_test, y_train, y_test = train_test_split(X, y, test_size=0.3, random_state=42)\n",
    "print(f\"Training samples: {X_train.shape[0]}, Testing samples: {X_test.shape[0]}\")\n"
   ]
  },
  {
   "cell_type": "code",
   "execution_count": null,
   "id": "5c973870",
   "metadata": {},
   "outputs": [
    {
     "name": "stdout",
     "output_type": "stream",
     "text": [
      "\n",
      "Setting up individual base classifiers...\n"
     ]
    }
   ],
   "source": [
    "# Define Individual Base Classifiers\n",
    "print(\"\\nSetting up individual base classifiers...\")\n",
    "clf1 = LogisticRegression(random_state=1, max_iter=10000)\n",
    "clf2 = DecisionTreeClassifier(random_state=1)\n",
    "clf3 = KNeighborsClassifier(n_neighbors=5) \n"
   ]
  },
  {
   "cell_type": "code",
   "execution_count": 11,
   "id": "c45d76f5",
   "metadata": {},
   "outputs": [
    {
     "name": "stdout",
     "output_type": "stream",
     "text": [
      "\n",
      "Creating the Voting Classifier (Ensemble Model)...\n"
     ]
    }
   ],
   "source": [
    "# Create the Voting Classifier\n",
    "print(\"\\nCreating the Voting Classifier (Ensemble Model)...\")\n",
    "eclf1 = VotingClassifier(\n",
    "    estimators=[('lr', clf1), ('dt', clf2), ('knn', clf3)],\n",
    "    voting='soft'\n",
    ")"
   ]
  },
  {
   "cell_type": "code",
   "execution_count": 12,
   "id": "25c9bba8",
   "metadata": {},
   "outputs": [
    {
     "name": "stdout",
     "output_type": "stream",
     "text": [
      "Training the Voting Classifier...\n",
      "Voting Classifier training complete.\n"
     ]
    }
   ],
   "source": [
    "# Train the Voting Classifier\n",
    "\n",
    "print(\"Training the Voting Classifier...\")\n",
    "eclf1 = eclf1.fit(X_train, y_train)\n",
    "print(\"Voting Classifier training complete.\")"
   ]
  },
  {
   "cell_type": "code",
   "execution_count": 13,
   "id": "a54aeb1f",
   "metadata": {},
   "outputs": [
    {
     "name": "stdout",
     "output_type": "stream",
     "text": [
      "\n",
      "Making predictions with the Voting Classifier on the test set...\n"
     ]
    }
   ],
   "source": [
    "# Make Predictions with the Ensemble Model\n",
    "print(\"\\nMaking predictions with the Voting Classifier on the test set...\")\n",
    "y_pred_ensemble = eclf1.predict(X_test)"
   ]
  },
  {
   "cell_type": "code",
   "execution_count": 14,
   "id": "67e20026",
   "metadata": {},
   "outputs": [
    {
     "data": {
      "text/plain": [
       "array([1, 0, 0, 1, 1, 0, 0, 0, 1, 1, 1, 0, 1, 0, 1, 0, 1, 1, 1, 0, 1, 1,\n",
       "       0, 1, 1, 1, 1, 1, 1, 0, 1, 1, 1, 1, 1, 1, 0, 1, 0, 1, 1, 0, 1, 1,\n",
       "       1, 1, 1, 1, 1, 1, 0, 0, 1, 1, 1, 1, 1, 0, 0, 1, 1, 0, 0, 1, 1, 1,\n",
       "       0, 0, 1, 1, 0, 0, 1, 0, 1, 1, 1, 0, 1, 1, 0, 1, 1, 0, 0, 0, 0, 0,\n",
       "       1, 1, 1, 1, 1, 1, 1, 1, 0, 0, 1, 0, 0, 1, 0, 0, 1, 1, 1, 0, 1, 1,\n",
       "       0, 1, 1, 0, 1, 0, 1, 1, 1, 0, 0, 1, 1, 0, 1, 0, 0, 1, 1, 0, 0, 0,\n",
       "       1, 1, 1, 0, 1, 1, 1, 0, 1, 0, 1, 1, 0, 1, 0, 0, 0, 1, 0, 1, 1, 1,\n",
       "       1, 0, 0, 1, 1, 1, 1, 1, 1, 1, 0, 1, 1, 1, 1, 0, 1])"
      ]
     },
     "execution_count": 14,
     "metadata": {},
     "output_type": "execute_result"
    }
   ],
   "source": [
    "y_pred_ensemble"
   ]
  },
  {
   "cell_type": "code",
   "execution_count": 15,
   "id": "f946203f",
   "metadata": {},
   "outputs": [
    {
     "name": "stdout",
     "output_type": "stream",
     "text": [
      "\n",
      "Ensemble Model Accuracy: 0.9825\n",
      "\n",
      "Ensemble Model Confusion Matrix:\n",
      "[[ 61   2]\n",
      " [  1 107]]\n",
      "\n",
      "Ensemble Model Type 1 Error (False Positives): 2\n",
      "Ensemble Model Type 2 Error (False Negatives): 1\n"
     ]
    }
   ],
   "source": [
    "# Evaluate the Ensemble Model Performance\n",
    "\n",
    "# Accuracy Score\n",
    "accuracy_ensemble = accuracy_score(y_test, y_pred_ensemble)\n",
    "print(f\"\\nEnsemble Model Accuracy: {accuracy_ensemble:.4f}\")\n",
    "\n",
    "# Confusion Matrix\n",
    "cm_ensemble = confusion_matrix(y_test, y_pred_ensemble)\n",
    "print(\"\\nEnsemble Model Confusion Matrix:\")\n",
    "print(cm_ensemble)\n",
    "\n",
    "# Extracting Type 1 and Type 2 Errors\n",
    "# Assuming class 0 = malignant (negative), class 1 = benign (positive)\n",
    "type_1_error_ensemble = cm_ensemble[0, 1]\n",
    "print(f\"\\nEnsemble Model Type 1 Error (False Positives): {type_1_error_ensemble}\")\n",
    "type_2_error_ensemble = cm_ensemble[1, 0]\n",
    "print(f\"Ensemble Model Type 2 Error (False Negatives): {type_2_error_ensemble}\")"
   ]
  },
  {
   "cell_type": "code",
   "execution_count": 16,
   "id": "399b0b95",
   "metadata": {},
   "outputs": [
    {
     "name": "stdout",
     "output_type": "stream",
     "text": [
      "\n",
      "Ensemble Model Classification Report (Precision, Recall, F1-Score):\n",
      "              precision    recall  f1-score   support\n",
      "\n",
      "   malignant       0.98      0.97      0.98        63\n",
      "      benign       0.98      0.99      0.99       108\n",
      "\n",
      "    accuracy                           0.98       171\n",
      "   macro avg       0.98      0.98      0.98       171\n",
      "weighted avg       0.98      0.98      0.98       171\n",
      "\n"
     ]
    }
   ],
   "source": [
    "# Precision, Recall, and F1-Score\n",
    "print(\"\\nEnsemble Model Classification Report (Precision, Recall, F1-Score):\")\n",
    "print(classification_report(y_test, y_pred_ensemble, target_names=data.target_names))\n"
   ]
  }
 ],
 "metadata": {
  "kernelspec": {
   "display_name": "Master",
   "language": "python",
   "name": "python3"
  },
  "language_info": {
   "codemirror_mode": {
    "name": "ipython",
    "version": 3
   },
   "file_extension": ".py",
   "mimetype": "text/x-python",
   "name": "python",
   "nbconvert_exporter": "python",
   "pygments_lexer": "ipython3",
   "version": "3.11.4"
  }
 },
 "nbformat": 4,
 "nbformat_minor": 5
}
