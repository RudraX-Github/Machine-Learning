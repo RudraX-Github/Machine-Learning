{
 "cells": [
  {
   "cell_type": "code",
   "execution_count": 1,
   "id": "07b18c0d",
   "metadata": {},
   "outputs": [],
   "source": [
    "#importing the required libraries\n",
    "import pandas as pd\n",
    "import numpy as np\n",
    "import matplotlib.pyplot as plt\n",
    "import seaborn as sns\n",
    "from sklearn.model_selection import train_test_split\n",
    "from sklearn.linear_model import LinearRegression\n",
    "from sklearn.metrics import mean_squared_error, r2_score"
   ]
  },
  {
   "cell_type": "code",
   "execution_count": 2,
   "id": "2f784699",
   "metadata": {},
   "outputs": [
    {
     "data": {
      "application/vnd.microsoft.datawrangler.viewer.v0+json": {
       "columns": [
        {
         "name": "index",
         "rawType": "int64",
         "type": "integer"
        },
        {
         "name": "Index",
         "rawType": "int64",
         "type": "integer"
        },
        {
         "name": "vendor_id",
         "rawType": "int64",
         "type": "integer"
        },
        {
         "name": "pickup_datetime",
         "rawType": "object",
         "type": "string"
        },
        {
         "name": "dropoff_datetime",
         "rawType": "object",
         "type": "string"
        },
        {
         "name": "PickUP_Date",
         "rawType": "object",
         "type": "string"
        },
        {
         "name": "PickUP_Time",
         "rawType": "object",
         "type": "string"
        },
        {
         "name": "DROP_DATE",
         "rawType": "object",
         "type": "string"
        },
        {
         "name": "DROP_Time",
         "rawType": "object",
         "type": "string"
        },
        {
         "name": "Store_and_fwd_flag",
         "rawType": "object",
         "type": "string"
        },
        {
         "name": "rate_code",
         "rawType": "int64",
         "type": "integer"
        },
        {
         "name": "Passenger_count",
         "rawType": "int64",
         "type": "integer"
        },
        {
         "name": "Trip_distance",
         "rawType": "float64",
         "type": "float"
        },
        {
         "name": "Fare_amount",
         "rawType": "float64",
         "type": "float"
        },
        {
         "name": "Extra",
         "rawType": "float64",
         "type": "float"
        },
        {
         "name": "MTA_tax",
         "rawType": "float64",
         "type": "float"
        },
        {
         "name": "Tip_amount",
         "rawType": "float64",
         "type": "float"
        },
        {
         "name": "Tolls_amount",
         "rawType": "float64",
         "type": "float"
        },
        {
         "name": "Ehail_fee",
         "rawType": "float64",
         "type": "float"
        },
        {
         "name": "Total_amount",
         "rawType": "float64",
         "type": "float"
        },
        {
         "name": "Payment_type",
         "rawType": "int64",
         "type": "integer"
        },
        {
         "name": "Trip_type",
         "rawType": "float64",
         "type": "float"
        },
        {
         "name": "Pickup_latitude",
         "rawType": "float64",
         "type": "float"
        },
        {
         "name": "Pickup_longitude",
         "rawType": "float64",
         "type": "float"
        },
        {
         "name": "Dropoff_latitude",
         "rawType": "float64",
         "type": "float"
        },
        {
         "name": "Dropoff_longitude",
         "rawType": "float64",
         "type": "float"
        },
        {
         "name": "TIme Difference",
         "rawType": "object",
         "type": "string"
        }
       ],
       "conversionMethod": "pd.DataFrame",
       "ref": "d6295f36-a1a5-4862-9a8d-27df877454e7",
       "rows": [
        [
         "0",
         "1",
         "1",
         "12-18-2013 10:26:21 PM",
         "12/18/2013 10:44:38 PM",
         "18-12-2013",
         "22.26.21",
         "18-12-2013",
         "22:44:38",
         "N",
         "1",
         "1",
         "10.2",
         "29.5",
         "0.5",
         "0.5",
         "9.15",
         "0.0",
         null,
         "39.65",
         "1",
         null,
         "40.8409729",
         "-73.94460297",
         "40.73353195",
         "-73.97602844",
         "0:18:17"
        ],
        [
         "1",
         "2",
         "2",
         "12-30-2013 7:59:47 PM",
         "12/30/2013 8:05:13 PM",
         "30-12-2013",
         "19:59:47",
         "30-12-2013",
         "20:05:13",
         "N",
         "1",
         "5",
         "1.05",
         "6.0",
         "1.0",
         "0.5",
         "0.0",
         "0.0",
         null,
         "7.5",
         "2",
         null,
         "40.75634384",
         "-73.92987061",
         "40.75243759",
         "-73.91493225",
         "0:05:26"
        ],
        [
         "2",
         "3",
         "2",
         "11-06-2013 21:09",
         "06-11-2013 21:34",
         "06-11-2013",
         "21:09:30",
         "11-06-2013",
         "21:34:37",
         "N",
         "1",
         "2",
         "6.07",
         "22.0",
         "0.5",
         "0.5",
         "0.0",
         "0.0",
         null,
         "23.0",
         "2",
         null,
         "40.7617836",
         "-73.92567444",
         "40.72024155",
         "-73.98739624",
         "0:25:07"
        ],
        [
         "3",
         "4",
         "2",
         "12-15-2013 10:57:20 AM",
         "12/15/2013 11:03:07 AM",
         "15-12-2013",
         "10:57:20",
         "15-12-2013",
         "11:03:07",
         "N",
         "1",
         "1",
         "1.38",
         "6.5",
         "0.0",
         "0.5",
         "0.0",
         "0.0",
         null,
         "7.0",
         "2",
         null,
         "40.76676178",
         "-73.92134857",
         "40.78278351",
         "-73.91085815",
         "0:05:47"
        ],
        [
         "4",
         "5",
         "2",
         "10-12-2013 19:10",
         "10-12-2013 19:14",
         "12-10-2013",
         "19:10:06",
         "12-10-2013",
         "19:14:29",
         "N",
         "1",
         "1",
         "0.6",
         "5.0",
         "1.0",
         "0.5",
         "1.2",
         "0.0",
         null,
         "7.7",
         "1",
         null,
         "40.6792717",
         "-73.98204803",
         "40.6740036",
         "-73.97576904",
         "0:04:23"
        ]
       ],
       "shape": {
        "columns": 26,
        "rows": 5
       }
      },
      "text/html": [
       "<div>\n",
       "<style scoped>\n",
       "    .dataframe tbody tr th:only-of-type {\n",
       "        vertical-align: middle;\n",
       "    }\n",
       "\n",
       "    .dataframe tbody tr th {\n",
       "        vertical-align: top;\n",
       "    }\n",
       "\n",
       "    .dataframe thead th {\n",
       "        text-align: right;\n",
       "    }\n",
       "</style>\n",
       "<table border=\"1\" class=\"dataframe\">\n",
       "  <thead>\n",
       "    <tr style=\"text-align: right;\">\n",
       "      <th></th>\n",
       "      <th>Index</th>\n",
       "      <th>vendor_id</th>\n",
       "      <th>pickup_datetime</th>\n",
       "      <th>dropoff_datetime</th>\n",
       "      <th>PickUP_Date</th>\n",
       "      <th>PickUP_Time</th>\n",
       "      <th>DROP_DATE</th>\n",
       "      <th>DROP_Time</th>\n",
       "      <th>Store_and_fwd_flag</th>\n",
       "      <th>rate_code</th>\n",
       "      <th>...</th>\n",
       "      <th>Tolls_amount</th>\n",
       "      <th>Ehail_fee</th>\n",
       "      <th>Total_amount</th>\n",
       "      <th>Payment_type</th>\n",
       "      <th>Trip_type</th>\n",
       "      <th>Pickup_latitude</th>\n",
       "      <th>Pickup_longitude</th>\n",
       "      <th>Dropoff_latitude</th>\n",
       "      <th>Dropoff_longitude</th>\n",
       "      <th>TIme Difference</th>\n",
       "    </tr>\n",
       "  </thead>\n",
       "  <tbody>\n",
       "    <tr>\n",
       "      <th>0</th>\n",
       "      <td>1</td>\n",
       "      <td>1</td>\n",
       "      <td>12-18-2013 10:26:21 PM</td>\n",
       "      <td>12/18/2013 10:44:38 PM</td>\n",
       "      <td>18-12-2013</td>\n",
       "      <td>22.26.21</td>\n",
       "      <td>18-12-2013</td>\n",
       "      <td>22:44:38</td>\n",
       "      <td>N</td>\n",
       "      <td>1</td>\n",
       "      <td>...</td>\n",
       "      <td>0.0</td>\n",
       "      <td>NaN</td>\n",
       "      <td>39.65</td>\n",
       "      <td>1</td>\n",
       "      <td>NaN</td>\n",
       "      <td>40.840973</td>\n",
       "      <td>-73.944603</td>\n",
       "      <td>40.733532</td>\n",
       "      <td>-73.976028</td>\n",
       "      <td>0:18:17</td>\n",
       "    </tr>\n",
       "    <tr>\n",
       "      <th>1</th>\n",
       "      <td>2</td>\n",
       "      <td>2</td>\n",
       "      <td>12-30-2013 7:59:47 PM</td>\n",
       "      <td>12/30/2013 8:05:13 PM</td>\n",
       "      <td>30-12-2013</td>\n",
       "      <td>19:59:47</td>\n",
       "      <td>30-12-2013</td>\n",
       "      <td>20:05:13</td>\n",
       "      <td>N</td>\n",
       "      <td>1</td>\n",
       "      <td>...</td>\n",
       "      <td>0.0</td>\n",
       "      <td>NaN</td>\n",
       "      <td>7.50</td>\n",
       "      <td>2</td>\n",
       "      <td>NaN</td>\n",
       "      <td>40.756344</td>\n",
       "      <td>-73.929871</td>\n",
       "      <td>40.752438</td>\n",
       "      <td>-73.914932</td>\n",
       "      <td>0:05:26</td>\n",
       "    </tr>\n",
       "    <tr>\n",
       "      <th>2</th>\n",
       "      <td>3</td>\n",
       "      <td>2</td>\n",
       "      <td>11-06-2013 21:09</td>\n",
       "      <td>06-11-2013 21:34</td>\n",
       "      <td>06-11-2013</td>\n",
       "      <td>21:09:30</td>\n",
       "      <td>11-06-2013</td>\n",
       "      <td>21:34:37</td>\n",
       "      <td>N</td>\n",
       "      <td>1</td>\n",
       "      <td>...</td>\n",
       "      <td>0.0</td>\n",
       "      <td>NaN</td>\n",
       "      <td>23.00</td>\n",
       "      <td>2</td>\n",
       "      <td>NaN</td>\n",
       "      <td>40.761784</td>\n",
       "      <td>-73.925674</td>\n",
       "      <td>40.720242</td>\n",
       "      <td>-73.987396</td>\n",
       "      <td>0:25:07</td>\n",
       "    </tr>\n",
       "    <tr>\n",
       "      <th>3</th>\n",
       "      <td>4</td>\n",
       "      <td>2</td>\n",
       "      <td>12-15-2013 10:57:20 AM</td>\n",
       "      <td>12/15/2013 11:03:07 AM</td>\n",
       "      <td>15-12-2013</td>\n",
       "      <td>10:57:20</td>\n",
       "      <td>15-12-2013</td>\n",
       "      <td>11:03:07</td>\n",
       "      <td>N</td>\n",
       "      <td>1</td>\n",
       "      <td>...</td>\n",
       "      <td>0.0</td>\n",
       "      <td>NaN</td>\n",
       "      <td>7.00</td>\n",
       "      <td>2</td>\n",
       "      <td>NaN</td>\n",
       "      <td>40.766762</td>\n",
       "      <td>-73.921349</td>\n",
       "      <td>40.782784</td>\n",
       "      <td>-73.910858</td>\n",
       "      <td>0:05:47</td>\n",
       "    </tr>\n",
       "    <tr>\n",
       "      <th>4</th>\n",
       "      <td>5</td>\n",
       "      <td>2</td>\n",
       "      <td>10-12-2013 19:10</td>\n",
       "      <td>10-12-2013 19:14</td>\n",
       "      <td>12-10-2013</td>\n",
       "      <td>19:10:06</td>\n",
       "      <td>12-10-2013</td>\n",
       "      <td>19:14:29</td>\n",
       "      <td>N</td>\n",
       "      <td>1</td>\n",
       "      <td>...</td>\n",
       "      <td>0.0</td>\n",
       "      <td>NaN</td>\n",
       "      <td>7.70</td>\n",
       "      <td>1</td>\n",
       "      <td>NaN</td>\n",
       "      <td>40.679272</td>\n",
       "      <td>-73.982048</td>\n",
       "      <td>40.674004</td>\n",
       "      <td>-73.975769</td>\n",
       "      <td>0:04:23</td>\n",
       "    </tr>\n",
       "  </tbody>\n",
       "</table>\n",
       "<p>5 rows × 26 columns</p>\n",
       "</div>"
      ],
      "text/plain": [
       "   Index  vendor_id         pickup_datetime        dropoff_datetime  \\\n",
       "0      1          1  12-18-2013 10:26:21 PM  12/18/2013 10:44:38 PM   \n",
       "1      2          2   12-30-2013 7:59:47 PM   12/30/2013 8:05:13 PM   \n",
       "2      3          2        11-06-2013 21:09        06-11-2013 21:34   \n",
       "3      4          2  12-15-2013 10:57:20 AM  12/15/2013 11:03:07 AM   \n",
       "4      5          2        10-12-2013 19:10        10-12-2013 19:14   \n",
       "\n",
       "  PickUP_Date PickUP_Time   DROP_DATE DROP_Time Store_and_fwd_flag  rate_code  \\\n",
       "0  18-12-2013    22.26.21  18-12-2013  22:44:38                  N          1   \n",
       "1  30-12-2013    19:59:47  30-12-2013  20:05:13                  N          1   \n",
       "2  06-11-2013    21:09:30  11-06-2013  21:34:37                  N          1   \n",
       "3  15-12-2013    10:57:20  15-12-2013  11:03:07                  N          1   \n",
       "4  12-10-2013    19:10:06  12-10-2013  19:14:29                  N          1   \n",
       "\n",
       "   ...  Tolls_amount  Ehail_fee  Total_amount  Payment_type  Trip_type  \\\n",
       "0  ...           0.0        NaN         39.65             1        NaN   \n",
       "1  ...           0.0        NaN          7.50             2        NaN   \n",
       "2  ...           0.0        NaN         23.00             2        NaN   \n",
       "3  ...           0.0        NaN          7.00             2        NaN   \n",
       "4  ...           0.0        NaN          7.70             1        NaN   \n",
       "\n",
       "   Pickup_latitude  Pickup_longitude  Dropoff_latitude  Dropoff_longitude  \\\n",
       "0        40.840973        -73.944603         40.733532         -73.976028   \n",
       "1        40.756344        -73.929871         40.752438         -73.914932   \n",
       "2        40.761784        -73.925674         40.720242         -73.987396   \n",
       "3        40.766762        -73.921349         40.782784         -73.910858   \n",
       "4        40.679272        -73.982048         40.674004         -73.975769   \n",
       "\n",
       "   TIme Difference  \n",
       "0          0:18:17  \n",
       "1          0:05:26  \n",
       "2          0:25:07  \n",
       "3          0:05:47  \n",
       "4          0:04:23  \n",
       "\n",
       "[5 rows x 26 columns]"
      ]
     },
     "execution_count": 2,
     "metadata": {},
     "output_type": "execute_result"
    }
   ],
   "source": [
    "path = r'D:\\RNW\\Project\\Simple Linear Regression\\Green-Done.csv'\n",
    "#reading the dataset\n",
    "df = pd.read_csv(path)\n",
    "\n",
    "#displaying the first 5 rows of the dataset \n",
    "df.head()\n"
   ]
  },
  {
   "cell_type": "code",
   "execution_count": 3,
   "id": "7db56a4d",
   "metadata": {},
   "outputs": [
    {
     "name": "stdout",
     "output_type": "stream",
     "text": [
      "(286368, 26)\n",
      "Index                   int64\n",
      "vendor_id               int64\n",
      "pickup_datetime        object\n",
      "dropoff_datetime       object\n",
      "PickUP_Date            object\n",
      "PickUP_Time            object\n",
      "DROP_DATE              object\n",
      "DROP_Time              object\n",
      "Store_and_fwd_flag     object\n",
      "rate_code               int64\n",
      "Passenger_count         int64\n",
      "Trip_distance         float64\n",
      "Fare_amount           float64\n",
      "Extra                 float64\n",
      "MTA_tax               float64\n",
      "Tip_amount            float64\n",
      "Tolls_amount          float64\n",
      "Ehail_fee             float64\n",
      "Total_amount          float64\n",
      "Payment_type            int64\n",
      "Trip_type             float64\n",
      "Pickup_latitude       float64\n",
      "Pickup_longitude      float64\n",
      "Dropoff_latitude      float64\n",
      "Dropoff_longitude     float64\n",
      "TIme Difference        object\n",
      "dtype: object\n",
      "Index                      0\n",
      "vendor_id                  0\n",
      "pickup_datetime            0\n",
      "dropoff_datetime           0\n",
      "PickUP_Date                0\n",
      "PickUP_Time                0\n",
      "DROP_DATE                  0\n",
      "DROP_Time                  0\n",
      "Store_and_fwd_flag         0\n",
      "rate_code                  0\n",
      "Passenger_count            0\n",
      "Trip_distance              0\n",
      "Fare_amount                0\n",
      "Extra                      0\n",
      "MTA_tax                    0\n",
      "Tip_amount                 0\n",
      "Tolls_amount               0\n",
      "Ehail_fee             286368\n",
      "Total_amount               0\n",
      "Payment_type               0\n",
      "Trip_type             282914\n",
      "Pickup_latitude            0\n",
      "Pickup_longitude           0\n",
      "Dropoff_latitude           0\n",
      "Dropoff_longitude          0\n",
      "TIme Difference            0\n",
      "dtype: int64\n",
      "Total_amount\n",
      "7.00      12534\n",
      "8.00      11956\n",
      "6.50      11704\n",
      "7.50      11273\n",
      "6.00      10694\n",
      "          ...  \n",
      "35.15         1\n",
      "65.29         1\n",
      "115.50        1\n",
      "8.99          1\n",
      "36.05         1\n",
      "Name: count, Length: 2241, dtype: int64\n"
     ]
    }
   ],
   "source": [
    "#checking the shape of the dataset\n",
    "print(df.shape)\n",
    "\n",
    "#checking the data types of the columns\n",
    "print(df.dtypes)\n",
    "\n",
    "#checking for missing values\n",
    "print(df.isnull().sum())\n",
    "\n",
    "#checking the distribution of the target variable\n",
    "print(df['Total_amount'].value_counts())\n"
   ]
  },
  {
   "cell_type": "code",
   "execution_count": 4,
   "id": "aff3ea42",
   "metadata": {},
   "outputs": [],
   "source": [
    "#new DF for simple linear regression\n",
    "df1 = df[['Trip_distance', 'Fare_amount']]\n"
   ]
  },
  {
   "cell_type": "code",
   "execution_count": 5,
   "id": "175d1cb3",
   "metadata": {},
   "outputs": [
    {
     "data": {
      "application/vnd.microsoft.datawrangler.viewer.v0+json": {
       "columns": [
        {
         "name": "index",
         "rawType": "int64",
         "type": "integer"
        },
        {
         "name": "Trip_distance",
         "rawType": "float64",
         "type": "float"
        },
        {
         "name": "Fare_amount",
         "rawType": "float64",
         "type": "float"
        }
       ],
       "conversionMethod": "pd.DataFrame",
       "ref": "d66eaabf-8d14-49de-a02a-599c6452e384",
       "rows": [
        [
         "0",
         "10.2",
         "29.5"
        ],
        [
         "1",
         "1.05",
         "6.0"
        ],
        [
         "2",
         "6.07",
         "22.0"
        ],
        [
         "3",
         "1.38",
         "6.5"
        ],
        [
         "4",
         "0.6",
         "5.0"
        ]
       ],
       "shape": {
        "columns": 2,
        "rows": 5
       }
      },
      "text/html": [
       "<div>\n",
       "<style scoped>\n",
       "    .dataframe tbody tr th:only-of-type {\n",
       "        vertical-align: middle;\n",
       "    }\n",
       "\n",
       "    .dataframe tbody tr th {\n",
       "        vertical-align: top;\n",
       "    }\n",
       "\n",
       "    .dataframe thead th {\n",
       "        text-align: right;\n",
       "    }\n",
       "</style>\n",
       "<table border=\"1\" class=\"dataframe\">\n",
       "  <thead>\n",
       "    <tr style=\"text-align: right;\">\n",
       "      <th></th>\n",
       "      <th>Trip_distance</th>\n",
       "      <th>Fare_amount</th>\n",
       "    </tr>\n",
       "  </thead>\n",
       "  <tbody>\n",
       "    <tr>\n",
       "      <th>0</th>\n",
       "      <td>10.20</td>\n",
       "      <td>29.5</td>\n",
       "    </tr>\n",
       "    <tr>\n",
       "      <th>1</th>\n",
       "      <td>1.05</td>\n",
       "      <td>6.0</td>\n",
       "    </tr>\n",
       "    <tr>\n",
       "      <th>2</th>\n",
       "      <td>6.07</td>\n",
       "      <td>22.0</td>\n",
       "    </tr>\n",
       "    <tr>\n",
       "      <th>3</th>\n",
       "      <td>1.38</td>\n",
       "      <td>6.5</td>\n",
       "    </tr>\n",
       "    <tr>\n",
       "      <th>4</th>\n",
       "      <td>0.60</td>\n",
       "      <td>5.0</td>\n",
       "    </tr>\n",
       "  </tbody>\n",
       "</table>\n",
       "</div>"
      ],
      "text/plain": [
       "   Trip_distance  Fare_amount\n",
       "0          10.20         29.5\n",
       "1           1.05          6.0\n",
       "2           6.07         22.0\n",
       "3           1.38          6.5\n",
       "4           0.60          5.0"
      ]
     },
     "execution_count": 5,
     "metadata": {},
     "output_type": "execute_result"
    }
   ],
   "source": [
    "df1.head()"
   ]
  },
  {
   "cell_type": "code",
   "execution_count": 6,
   "id": "5c5aa731",
   "metadata": {},
   "outputs": [],
   "source": [
    "X = df1.iloc[:,0].values\n",
    "y = df1.iloc[:,1].values"
   ]
  },
  {
   "cell_type": "code",
   "execution_count": 7,
   "id": "7a0bcabd",
   "metadata": {},
   "outputs": [
    {
     "data": {
      "text/plain": [
       "array([10.2 ,  1.05,  6.07, ...,  3.19,  2.6 ,  0.71])"
      ]
     },
     "execution_count": 7,
     "metadata": {},
     "output_type": "execute_result"
    }
   ],
   "source": [
    "X"
   ]
  },
  {
   "cell_type": "code",
   "execution_count": 8,
   "id": "46da0b3a",
   "metadata": {},
   "outputs": [
    {
     "data": {
      "text/plain": [
       "array([29.5,  6. , 22. , ..., 13. , 10.5,  7. ])"
      ]
     },
     "execution_count": 8,
     "metadata": {},
     "output_type": "execute_result"
    }
   ],
   "source": [
    "y"
   ]
  },
  {
   "cell_type": "code",
   "execution_count": 9,
   "id": "35ef428f",
   "metadata": {},
   "outputs": [],
   "source": [
    "\n",
    "X_train,X_test,y_train,y_test = train_test_split(X,y,test_size=0.2,random_state=2)"
   ]
  },
  {
   "cell_type": "code",
   "execution_count": 10,
   "id": "1b573d32",
   "metadata": {},
   "outputs": [],
   "source": [
    "lr = LinearRegression()"
   ]
  },
  {
   "cell_type": "code",
   "execution_count": 11,
   "id": "5ce722bf",
   "metadata": {},
   "outputs": [
    {
     "data": {
      "text/html": [
       "<style>#sk-container-id-1 {\n",
       "  /* Definition of color scheme common for light and dark mode */\n",
       "  --sklearn-color-text: #000;\n",
       "  --sklearn-color-text-muted: #666;\n",
       "  --sklearn-color-line: gray;\n",
       "  /* Definition of color scheme for unfitted estimators */\n",
       "  --sklearn-color-unfitted-level-0: #fff5e6;\n",
       "  --sklearn-color-unfitted-level-1: #f6e4d2;\n",
       "  --sklearn-color-unfitted-level-2: #ffe0b3;\n",
       "  --sklearn-color-unfitted-level-3: chocolate;\n",
       "  /* Definition of color scheme for fitted estimators */\n",
       "  --sklearn-color-fitted-level-0: #f0f8ff;\n",
       "  --sklearn-color-fitted-level-1: #d4ebff;\n",
       "  --sklearn-color-fitted-level-2: #b3dbfd;\n",
       "  --sklearn-color-fitted-level-3: cornflowerblue;\n",
       "\n",
       "  /* Specific color for light theme */\n",
       "  --sklearn-color-text-on-default-background: var(--sg-text-color, var(--theme-code-foreground, var(--jp-content-font-color1, black)));\n",
       "  --sklearn-color-background: var(--sg-background-color, var(--theme-background, var(--jp-layout-color0, white)));\n",
       "  --sklearn-color-border-box: var(--sg-text-color, var(--theme-code-foreground, var(--jp-content-font-color1, black)));\n",
       "  --sklearn-color-icon: #696969;\n",
       "\n",
       "  @media (prefers-color-scheme: dark) {\n",
       "    /* Redefinition of color scheme for dark theme */\n",
       "    --sklearn-color-text-on-default-background: var(--sg-text-color, var(--theme-code-foreground, var(--jp-content-font-color1, white)));\n",
       "    --sklearn-color-background: var(--sg-background-color, var(--theme-background, var(--jp-layout-color0, #111)));\n",
       "    --sklearn-color-border-box: var(--sg-text-color, var(--theme-code-foreground, var(--jp-content-font-color1, white)));\n",
       "    --sklearn-color-icon: #878787;\n",
       "  }\n",
       "}\n",
       "\n",
       "#sk-container-id-1 {\n",
       "  color: var(--sklearn-color-text);\n",
       "}\n",
       "\n",
       "#sk-container-id-1 pre {\n",
       "  padding: 0;\n",
       "}\n",
       "\n",
       "#sk-container-id-1 input.sk-hidden--visually {\n",
       "  border: 0;\n",
       "  clip: rect(1px 1px 1px 1px);\n",
       "  clip: rect(1px, 1px, 1px, 1px);\n",
       "  height: 1px;\n",
       "  margin: -1px;\n",
       "  overflow: hidden;\n",
       "  padding: 0;\n",
       "  position: absolute;\n",
       "  width: 1px;\n",
       "}\n",
       "\n",
       "#sk-container-id-1 div.sk-dashed-wrapped {\n",
       "  border: 1px dashed var(--sklearn-color-line);\n",
       "  margin: 0 0.4em 0.5em 0.4em;\n",
       "  box-sizing: border-box;\n",
       "  padding-bottom: 0.4em;\n",
       "  background-color: var(--sklearn-color-background);\n",
       "}\n",
       "\n",
       "#sk-container-id-1 div.sk-container {\n",
       "  /* jupyter's `normalize.less` sets `[hidden] { display: none; }`\n",
       "     but bootstrap.min.css set `[hidden] { display: none !important; }`\n",
       "     so we also need the `!important` here to be able to override the\n",
       "     default hidden behavior on the sphinx rendered scikit-learn.org.\n",
       "     See: https://github.com/scikit-learn/scikit-learn/issues/21755 */\n",
       "  display: inline-block !important;\n",
       "  position: relative;\n",
       "}\n",
       "\n",
       "#sk-container-id-1 div.sk-text-repr-fallback {\n",
       "  display: none;\n",
       "}\n",
       "\n",
       "div.sk-parallel-item,\n",
       "div.sk-serial,\n",
       "div.sk-item {\n",
       "  /* draw centered vertical line to link estimators */\n",
       "  background-image: linear-gradient(var(--sklearn-color-text-on-default-background), var(--sklearn-color-text-on-default-background));\n",
       "  background-size: 2px 100%;\n",
       "  background-repeat: no-repeat;\n",
       "  background-position: center center;\n",
       "}\n",
       "\n",
       "/* Parallel-specific style estimator block */\n",
       "\n",
       "#sk-container-id-1 div.sk-parallel-item::after {\n",
       "  content: \"\";\n",
       "  width: 100%;\n",
       "  border-bottom: 2px solid var(--sklearn-color-text-on-default-background);\n",
       "  flex-grow: 1;\n",
       "}\n",
       "\n",
       "#sk-container-id-1 div.sk-parallel {\n",
       "  display: flex;\n",
       "  align-items: stretch;\n",
       "  justify-content: center;\n",
       "  background-color: var(--sklearn-color-background);\n",
       "  position: relative;\n",
       "}\n",
       "\n",
       "#sk-container-id-1 div.sk-parallel-item {\n",
       "  display: flex;\n",
       "  flex-direction: column;\n",
       "}\n",
       "\n",
       "#sk-container-id-1 div.sk-parallel-item:first-child::after {\n",
       "  align-self: flex-end;\n",
       "  width: 50%;\n",
       "}\n",
       "\n",
       "#sk-container-id-1 div.sk-parallel-item:last-child::after {\n",
       "  align-self: flex-start;\n",
       "  width: 50%;\n",
       "}\n",
       "\n",
       "#sk-container-id-1 div.sk-parallel-item:only-child::after {\n",
       "  width: 0;\n",
       "}\n",
       "\n",
       "/* Serial-specific style estimator block */\n",
       "\n",
       "#sk-container-id-1 div.sk-serial {\n",
       "  display: flex;\n",
       "  flex-direction: column;\n",
       "  align-items: center;\n",
       "  background-color: var(--sklearn-color-background);\n",
       "  padding-right: 1em;\n",
       "  padding-left: 1em;\n",
       "}\n",
       "\n",
       "\n",
       "/* Toggleable style: style used for estimator/Pipeline/ColumnTransformer box that is\n",
       "clickable and can be expanded/collapsed.\n",
       "- Pipeline and ColumnTransformer use this feature and define the default style\n",
       "- Estimators will overwrite some part of the style using the `sk-estimator` class\n",
       "*/\n",
       "\n",
       "/* Pipeline and ColumnTransformer style (default) */\n",
       "\n",
       "#sk-container-id-1 div.sk-toggleable {\n",
       "  /* Default theme specific background. It is overwritten whether we have a\n",
       "  specific estimator or a Pipeline/ColumnTransformer */\n",
       "  background-color: var(--sklearn-color-background);\n",
       "}\n",
       "\n",
       "/* Toggleable label */\n",
       "#sk-container-id-1 label.sk-toggleable__label {\n",
       "  cursor: pointer;\n",
       "  display: flex;\n",
       "  width: 100%;\n",
       "  margin-bottom: 0;\n",
       "  padding: 0.5em;\n",
       "  box-sizing: border-box;\n",
       "  text-align: center;\n",
       "  align-items: start;\n",
       "  justify-content: space-between;\n",
       "  gap: 0.5em;\n",
       "}\n",
       "\n",
       "#sk-container-id-1 label.sk-toggleable__label .caption {\n",
       "  font-size: 0.6rem;\n",
       "  font-weight: lighter;\n",
       "  color: var(--sklearn-color-text-muted);\n",
       "}\n",
       "\n",
       "#sk-container-id-1 label.sk-toggleable__label-arrow:before {\n",
       "  /* Arrow on the left of the label */\n",
       "  content: \"▸\";\n",
       "  float: left;\n",
       "  margin-right: 0.25em;\n",
       "  color: var(--sklearn-color-icon);\n",
       "}\n",
       "\n",
       "#sk-container-id-1 label.sk-toggleable__label-arrow:hover:before {\n",
       "  color: var(--sklearn-color-text);\n",
       "}\n",
       "\n",
       "/* Toggleable content - dropdown */\n",
       "\n",
       "#sk-container-id-1 div.sk-toggleable__content {\n",
       "  max-height: 0;\n",
       "  max-width: 0;\n",
       "  overflow: hidden;\n",
       "  text-align: left;\n",
       "  /* unfitted */\n",
       "  background-color: var(--sklearn-color-unfitted-level-0);\n",
       "}\n",
       "\n",
       "#sk-container-id-1 div.sk-toggleable__content.fitted {\n",
       "  /* fitted */\n",
       "  background-color: var(--sklearn-color-fitted-level-0);\n",
       "}\n",
       "\n",
       "#sk-container-id-1 div.sk-toggleable__content pre {\n",
       "  margin: 0.2em;\n",
       "  border-radius: 0.25em;\n",
       "  color: var(--sklearn-color-text);\n",
       "  /* unfitted */\n",
       "  background-color: var(--sklearn-color-unfitted-level-0);\n",
       "}\n",
       "\n",
       "#sk-container-id-1 div.sk-toggleable__content.fitted pre {\n",
       "  /* unfitted */\n",
       "  background-color: var(--sklearn-color-fitted-level-0);\n",
       "}\n",
       "\n",
       "#sk-container-id-1 input.sk-toggleable__control:checked~div.sk-toggleable__content {\n",
       "  /* Expand drop-down */\n",
       "  max-height: 200px;\n",
       "  max-width: 100%;\n",
       "  overflow: auto;\n",
       "}\n",
       "\n",
       "#sk-container-id-1 input.sk-toggleable__control:checked~label.sk-toggleable__label-arrow:before {\n",
       "  content: \"▾\";\n",
       "}\n",
       "\n",
       "/* Pipeline/ColumnTransformer-specific style */\n",
       "\n",
       "#sk-container-id-1 div.sk-label input.sk-toggleable__control:checked~label.sk-toggleable__label {\n",
       "  color: var(--sklearn-color-text);\n",
       "  background-color: var(--sklearn-color-unfitted-level-2);\n",
       "}\n",
       "\n",
       "#sk-container-id-1 div.sk-label.fitted input.sk-toggleable__control:checked~label.sk-toggleable__label {\n",
       "  background-color: var(--sklearn-color-fitted-level-2);\n",
       "}\n",
       "\n",
       "/* Estimator-specific style */\n",
       "\n",
       "/* Colorize estimator box */\n",
       "#sk-container-id-1 div.sk-estimator input.sk-toggleable__control:checked~label.sk-toggleable__label {\n",
       "  /* unfitted */\n",
       "  background-color: var(--sklearn-color-unfitted-level-2);\n",
       "}\n",
       "\n",
       "#sk-container-id-1 div.sk-estimator.fitted input.sk-toggleable__control:checked~label.sk-toggleable__label {\n",
       "  /* fitted */\n",
       "  background-color: var(--sklearn-color-fitted-level-2);\n",
       "}\n",
       "\n",
       "#sk-container-id-1 div.sk-label label.sk-toggleable__label,\n",
       "#sk-container-id-1 div.sk-label label {\n",
       "  /* The background is the default theme color */\n",
       "  color: var(--sklearn-color-text-on-default-background);\n",
       "}\n",
       "\n",
       "/* On hover, darken the color of the background */\n",
       "#sk-container-id-1 div.sk-label:hover label.sk-toggleable__label {\n",
       "  color: var(--sklearn-color-text);\n",
       "  background-color: var(--sklearn-color-unfitted-level-2);\n",
       "}\n",
       "\n",
       "/* Label box, darken color on hover, fitted */\n",
       "#sk-container-id-1 div.sk-label.fitted:hover label.sk-toggleable__label.fitted {\n",
       "  color: var(--sklearn-color-text);\n",
       "  background-color: var(--sklearn-color-fitted-level-2);\n",
       "}\n",
       "\n",
       "/* Estimator label */\n",
       "\n",
       "#sk-container-id-1 div.sk-label label {\n",
       "  font-family: monospace;\n",
       "  font-weight: bold;\n",
       "  display: inline-block;\n",
       "  line-height: 1.2em;\n",
       "}\n",
       "\n",
       "#sk-container-id-1 div.sk-label-container {\n",
       "  text-align: center;\n",
       "}\n",
       "\n",
       "/* Estimator-specific */\n",
       "#sk-container-id-1 div.sk-estimator {\n",
       "  font-family: monospace;\n",
       "  border: 1px dotted var(--sklearn-color-border-box);\n",
       "  border-radius: 0.25em;\n",
       "  box-sizing: border-box;\n",
       "  margin-bottom: 0.5em;\n",
       "  /* unfitted */\n",
       "  background-color: var(--sklearn-color-unfitted-level-0);\n",
       "}\n",
       "\n",
       "#sk-container-id-1 div.sk-estimator.fitted {\n",
       "  /* fitted */\n",
       "  background-color: var(--sklearn-color-fitted-level-0);\n",
       "}\n",
       "\n",
       "/* on hover */\n",
       "#sk-container-id-1 div.sk-estimator:hover {\n",
       "  /* unfitted */\n",
       "  background-color: var(--sklearn-color-unfitted-level-2);\n",
       "}\n",
       "\n",
       "#sk-container-id-1 div.sk-estimator.fitted:hover {\n",
       "  /* fitted */\n",
       "  background-color: var(--sklearn-color-fitted-level-2);\n",
       "}\n",
       "\n",
       "/* Specification for estimator info (e.g. \"i\" and \"?\") */\n",
       "\n",
       "/* Common style for \"i\" and \"?\" */\n",
       "\n",
       ".sk-estimator-doc-link,\n",
       "a:link.sk-estimator-doc-link,\n",
       "a:visited.sk-estimator-doc-link {\n",
       "  float: right;\n",
       "  font-size: smaller;\n",
       "  line-height: 1em;\n",
       "  font-family: monospace;\n",
       "  background-color: var(--sklearn-color-background);\n",
       "  border-radius: 1em;\n",
       "  height: 1em;\n",
       "  width: 1em;\n",
       "  text-decoration: none !important;\n",
       "  margin-left: 0.5em;\n",
       "  text-align: center;\n",
       "  /* unfitted */\n",
       "  border: var(--sklearn-color-unfitted-level-1) 1pt solid;\n",
       "  color: var(--sklearn-color-unfitted-level-1);\n",
       "}\n",
       "\n",
       ".sk-estimator-doc-link.fitted,\n",
       "a:link.sk-estimator-doc-link.fitted,\n",
       "a:visited.sk-estimator-doc-link.fitted {\n",
       "  /* fitted */\n",
       "  border: var(--sklearn-color-fitted-level-1) 1pt solid;\n",
       "  color: var(--sklearn-color-fitted-level-1);\n",
       "}\n",
       "\n",
       "/* On hover */\n",
       "div.sk-estimator:hover .sk-estimator-doc-link:hover,\n",
       ".sk-estimator-doc-link:hover,\n",
       "div.sk-label-container:hover .sk-estimator-doc-link:hover,\n",
       ".sk-estimator-doc-link:hover {\n",
       "  /* unfitted */\n",
       "  background-color: var(--sklearn-color-unfitted-level-3);\n",
       "  color: var(--sklearn-color-background);\n",
       "  text-decoration: none;\n",
       "}\n",
       "\n",
       "div.sk-estimator.fitted:hover .sk-estimator-doc-link.fitted:hover,\n",
       ".sk-estimator-doc-link.fitted:hover,\n",
       "div.sk-label-container:hover .sk-estimator-doc-link.fitted:hover,\n",
       ".sk-estimator-doc-link.fitted:hover {\n",
       "  /* fitted */\n",
       "  background-color: var(--sklearn-color-fitted-level-3);\n",
       "  color: var(--sklearn-color-background);\n",
       "  text-decoration: none;\n",
       "}\n",
       "\n",
       "/* Span, style for the box shown on hovering the info icon */\n",
       ".sk-estimator-doc-link span {\n",
       "  display: none;\n",
       "  z-index: 9999;\n",
       "  position: relative;\n",
       "  font-weight: normal;\n",
       "  right: .2ex;\n",
       "  padding: .5ex;\n",
       "  margin: .5ex;\n",
       "  width: min-content;\n",
       "  min-width: 20ex;\n",
       "  max-width: 50ex;\n",
       "  color: var(--sklearn-color-text);\n",
       "  box-shadow: 2pt 2pt 4pt #999;\n",
       "  /* unfitted */\n",
       "  background: var(--sklearn-color-unfitted-level-0);\n",
       "  border: .5pt solid var(--sklearn-color-unfitted-level-3);\n",
       "}\n",
       "\n",
       ".sk-estimator-doc-link.fitted span {\n",
       "  /* fitted */\n",
       "  background: var(--sklearn-color-fitted-level-0);\n",
       "  border: var(--sklearn-color-fitted-level-3);\n",
       "}\n",
       "\n",
       ".sk-estimator-doc-link:hover span {\n",
       "  display: block;\n",
       "}\n",
       "\n",
       "/* \"?\"-specific style due to the `<a>` HTML tag */\n",
       "\n",
       "#sk-container-id-1 a.estimator_doc_link {\n",
       "  float: right;\n",
       "  font-size: 1rem;\n",
       "  line-height: 1em;\n",
       "  font-family: monospace;\n",
       "  background-color: var(--sklearn-color-background);\n",
       "  border-radius: 1rem;\n",
       "  height: 1rem;\n",
       "  width: 1rem;\n",
       "  text-decoration: none;\n",
       "  /* unfitted */\n",
       "  color: var(--sklearn-color-unfitted-level-1);\n",
       "  border: var(--sklearn-color-unfitted-level-1) 1pt solid;\n",
       "}\n",
       "\n",
       "#sk-container-id-1 a.estimator_doc_link.fitted {\n",
       "  /* fitted */\n",
       "  border: var(--sklearn-color-fitted-level-1) 1pt solid;\n",
       "  color: var(--sklearn-color-fitted-level-1);\n",
       "}\n",
       "\n",
       "/* On hover */\n",
       "#sk-container-id-1 a.estimator_doc_link:hover {\n",
       "  /* unfitted */\n",
       "  background-color: var(--sklearn-color-unfitted-level-3);\n",
       "  color: var(--sklearn-color-background);\n",
       "  text-decoration: none;\n",
       "}\n",
       "\n",
       "#sk-container-id-1 a.estimator_doc_link.fitted:hover {\n",
       "  /* fitted */\n",
       "  background-color: var(--sklearn-color-fitted-level-3);\n",
       "}\n",
       "</style><div id=\"sk-container-id-1\" class=\"sk-top-container\"><div class=\"sk-text-repr-fallback\"><pre>LinearRegression()</pre><b>In a Jupyter environment, please rerun this cell to show the HTML representation or trust the notebook. <br />On GitHub, the HTML representation is unable to render, please try loading this page with nbviewer.org.</b></div><div class=\"sk-container\" hidden><div class=\"sk-item\"><div class=\"sk-estimator fitted sk-toggleable\"><input class=\"sk-toggleable__control sk-hidden--visually\" id=\"sk-estimator-id-1\" type=\"checkbox\" checked><label for=\"sk-estimator-id-1\" class=\"sk-toggleable__label fitted sk-toggleable__label-arrow\"><div><div>LinearRegression</div></div><div><a class=\"sk-estimator-doc-link fitted\" rel=\"noreferrer\" target=\"_blank\" href=\"https://scikit-learn.org/1.6/modules/generated/sklearn.linear_model.LinearRegression.html\">?<span>Documentation for LinearRegression</span></a><span class=\"sk-estimator-doc-link fitted\">i<span>Fitted</span></span></div></label><div class=\"sk-toggleable__content fitted\"><pre>LinearRegression()</pre></div> </div></div></div></div>"
      ],
      "text/plain": [
       "LinearRegression()"
      ]
     },
     "execution_count": 11,
     "metadata": {},
     "output_type": "execute_result"
    }
   ],
   "source": [
    "lr.fit(X_train.reshape(-1, 1), y_train)"
   ]
  },
  {
   "cell_type": "code",
   "execution_count": 12,
   "id": "bccd7dd0",
   "metadata": {},
   "outputs": [
    {
     "data": {
      "text/plain": [
       "array([1.17, 1.03, 0.98, ..., 3.2 , 0.65, 8.7 ])"
      ]
     },
     "execution_count": 12,
     "metadata": {},
     "output_type": "execute_result"
    }
   ],
   "source": [
    "X_test"
   ]
  },
  {
   "cell_type": "code",
   "execution_count": 13,
   "id": "136d46cb",
   "metadata": {},
   "outputs": [
    {
     "data": {
      "text/plain": [
       "array([ 7. ,  6. ,  4.5, ..., 13. ,  5. , 28. ])"
      ]
     },
     "execution_count": 13,
     "metadata": {},
     "output_type": "execute_result"
    }
   ],
   "source": [
    "y_test"
   ]
  },
  {
   "cell_type": "code",
   "execution_count": 14,
   "id": "94b8cb3c",
   "metadata": {},
   "outputs": [
    {
     "data": {
      "text/plain": [
       "array([ 7.25783958,  6.8675485 ,  6.72815883, ..., 12.91706019,\n",
       "        5.80818701, 28.24992392])"
      ]
     },
     "execution_count": 14,
     "metadata": {},
     "output_type": "execute_result"
    }
   ],
   "source": [
    "lr.predict(X_test.reshape(-1, 1))"
   ]
  },
  {
   "cell_type": "code",
   "execution_count": 15,
   "id": "ff26b1cc",
   "metadata": {},
   "outputs": [],
   "source": [
    "m = lr.coef_"
   ]
  },
  {
   "cell_type": "code",
   "execution_count": 16,
   "id": "14213b18",
   "metadata": {},
   "outputs": [
    {
     "data": {
      "text/plain": [
       "array([2.78779341])"
      ]
     },
     "execution_count": 16,
     "metadata": {},
     "output_type": "execute_result"
    }
   ],
   "source": [
    "m"
   ]
  },
  {
   "cell_type": "code",
   "execution_count": 17,
   "id": "91c04757",
   "metadata": {},
   "outputs": [],
   "source": [
    "b = lr.intercept_"
   ]
  },
  {
   "cell_type": "code",
   "execution_count": 18,
   "id": "a49521a4",
   "metadata": {},
   "outputs": [
    {
     "data": {
      "text/plain": [
       "3.9961212960663524"
      ]
     },
     "execution_count": 18,
     "metadata": {},
     "output_type": "execute_result"
    }
   ],
   "source": [
    "b"
   ]
  },
  {
   "cell_type": "code",
   "execution_count": 21,
   "id": "43a9d4c5",
   "metadata": {},
   "outputs": [
    {
     "data": {
      "text/plain": [
       "array([10.12926679])"
      ]
     },
     "execution_count": 21,
     "metadata": {},
     "output_type": "execute_result"
    }
   ],
   "source": [
    "# y = mx + b\n",
    "\n",
    "m * 2.2 + b"
   ]
  },
  {
   "cell_type": "code",
   "execution_count": 20,
   "id": "f5857847",
   "metadata": {},
   "outputs": [
    {
     "data": {
      "text/plain": [
       "Text(0, 0.5, 'Fare Amount')"
      ]
     },
     "execution_count": 20,
     "metadata": {},
     "output_type": "execute_result"
    },
    {
     "data": {
      "image/png": "[encoded data removed]",
      "text/plain": [
       "<Figure size 640x480 with 1 Axes>"
      ]
     },
     "metadata": {},
     "output_type": "display_data"
    }
   ],
   "source": [
    "plt.scatter(df1['Trip_distance'], df1['Fare_amount'], alpha=0.3)\n",
    "# Sort X_train for a smooth regression line\n",
    "sorted_idx = X_train.argsort()\n",
    "plt.plot(X_train[sorted_idx], lr.predict(X_train.reshape(-1, 1))[sorted_idx], color='red')\n",
    "plt.xlabel('Trip Distance')\n",
    "plt.ylabel('Fare Amount')"
   ]
  },
  {
   "cell_type": "code",
   "execution_count": null,
   "id": "51d17f86",
   "metadata": {},
   "outputs": [],
   "source": []
  }
 ],
 "metadata": {
  "kernelspec": {
   "display_name": "Master",
   "language": "python",
   "name": "python3"
  },
  "language_info": {
   "codemirror_mode": {
    "name": "ipython",
    "version": 3
   },
   "file_extension": ".py",
   "mimetype": "text/x-python",
   "name": "python",
   "nbconvert_exporter": "python",
   "pygments_lexer": "ipython3",
   "version": "3.11.4"
  }
 },
 "nbformat": 4,
 "nbformat_minor": 5
}
