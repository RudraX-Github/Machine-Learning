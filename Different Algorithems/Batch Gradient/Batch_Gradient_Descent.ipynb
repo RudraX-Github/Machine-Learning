{
 "cells": [
  {
   "cell_type": "code",
   "execution_count": null,
   "id": "49efcf95",
   "metadata": {},
   "outputs": [],
   "source": [
    "from sklearn.datasets import fetch_california_housing\n",
    "from sklearn.model_selection import train_test_split\n",
    "from sklearn.preprocessing import StandardScaler\n",
    "from sklearn.linear_model import SGDRegressor\n",
    "from sklearn.metrics import mean_squared_error\n",
    "import numpy as np"
   ]
  },
  {
   "cell_type": "code",
   "execution_count": null,
   "id": "3abc902b",
   "metadata": {},
   "outputs": [],
   "source": [
    "# Load California Housing dataset\n",
    "california = fetch_california_housing()\n",
    "X, y = california.data, california.target"
   ]
  },
  {
   "cell_type": "code",
   "execution_count": null,
   "id": "6b2c6c16",
   "metadata": {},
   "outputs": [],
   "source": [
    "# Split data into training and testing sets\n",
    "X_train, X_test, y_train, y_test = train_test_split(X, y, test_size=0.2, random_state=42)"
   ]
  },
  {
   "cell_type": "code",
   "execution_count": null,
   "id": "ff3ad541",
   "metadata": {},
   "outputs": [],
   "source": [
    "# Scale features\n",
    "scaler = StandardScaler()\n",
    "X_train_scaled = scaler.fit_transform(X_train)\n",
    "X_test_scaled = scaler.transform(X_test)"
   ]
  },
  {
   "cell_type": "code",
   "execution_count": null,
   "id": "343fee22",
   "metadata": {},
   "outputs": [],
   "source": [
    "# Batch Gradient Descent\n",
    "sgd_batch = SGDRegressor(\n",
    "    loss='squared_error',\n",
    "    learning_rate='constant',\n",
    "    eta0=0.01,\n",
    "    max_iter=100,\n",
    "    tol=1e-3,\n",
    "    random_state=42\n",
    ")\n",
    "\n",
    "# Fit model on entire training data\n",
    "sgd_batch.fit(X_train_scaled, y_train)"
   ]
  },
  {
   "cell_type": "code",
   "execution_count": null,
   "id": "973a2251",
   "metadata": {},
   "outputs": [],
   "source": [
    "# Predict and evaluate\n",
    "y_pred_batch = sgd_batch.predict(X_test_scaled)\n",
    "mse_batch = mean_squared_error(y_test, y_pred_batch)\n",
    "print(f\"Batch Gradient Descent MSE: {mse_batch:.4f}\")"
   ]
  },
  {
   "cell_type": "code",
   "execution_count": null,
   "id": "f0af5c9c",
   "metadata": {},
   "outputs": [],
   "source": [
    "# Coefficients and intercept\n",
    "print(f\"Coefficients: {sgd_batch.coef_}\")\n",
    "print(f\"Intercept: {sgd_batch.intercept_}\")"
   ]
  },
  {
   "cell_type": "markdown",
   "id": "4e82f321",
   "metadata": {},
   "source": [
    "# Batch Gradient Descent with Ridge and Lasso Regression"
   ]
  },
  {
   "cell_type": "code",
   "execution_count": null,
   "id": "75769443",
   "metadata": {},
   "outputs": [],
   "source": [
    "# Ridge Regression with Batch Gradient Descent\n",
    "ridge_batch = SGDRegressor(loss='squared_error', penalty='l2', alpha=0.01, \n",
    "                           learning_rate='constant', eta0=0.01, max_iter=100, \n",
    "                           random_state=42, shuffle=False)\n",
    "ridge_batch.fit(X_train_scaled, y_train)\n",
    "y_pred_ridge = ridge_batch.predict(X_test_scaled)\n",
    "ridge_mse = mean_squared_error(y_test, y_pred_ridge)\n",
    "print(f\"Ridge (Batch GD) MSE: {ridge_mse:.4f}\")\n",
    "\n",
    "# Lasso Regression with Batch Gradient Descent\n",
    "lasso_batch = SGDRegressor(loss='squared_error', penalty='l1', alpha=0.01, \n",
    "                           learning_rate='constant', eta0=0.01, max_iter=100, \n",
    "                           random_state=42, shuffle=False)\n",
    "lasso_batch.fit(X_train_scaled, y_train)\n",
    "y_pred_lasso = lasso_batch.predict(X_test_scaled)\n",
    "lasso_mse = mean_squared_error(y_test, y_pred_lasso)\n",
    "print(f\"Lasso (Batch GD) MSE: {lasso_mse:.4f}\")"
   ]
  }
 ],
 "metadata": {
  "kernelspec": {
   "display_name": "Master",
   "language": "python",
   "name": "python3"
  },
  "language_info": {
   "codemirror_mode": {
    "name": "ipython",
    "version": 3
   },
   "file_extension": ".py",
   "mimetype": "text/x-python",
   "name": "python",
   "nbconvert_exporter": "python",
   "pygments_lexer": "ipython3",
   "version": "3.11.4"
  }
 },
 "nbformat": 4,
 "nbformat_minor": 5
}
