{
 "cells": [
  {
   "cell_type": "code",
   "execution_count": null,
   "id": "49efcf95",
   "metadata": {},
   "outputs": [],
   "source": [
    "from sklearn.datasets import fetch_california_housing\n",
    "from sklearn.model_selection import train_test_split\n",
    "from sklearn.preprocessing import StandardScaler\n",
    "from sklearn.linear_model import SGDRegressor\n",
    "from sklearn.metrics import mean_squared_error\n",
    "import numpy as np"
   ]
  },
  {
   "cell_type": "code",
   "execution_count": null,
   "id": "3abc902b",
   "metadata": {},
   "outputs": [],
   "source": [
    "# Load California Housing dataset\n",
    "california = fetch_california_housing()\n",
    "X, y = california.data, california.target"
   ]
  },
  {
   "cell_type": "code",
   "execution_count": null,
   "id": "6b2c6c16",
   "metadata": {},
   "outputs": [],
   "source": [
    "# Split data into training and testing sets\n",
    "X_train, X_test, y_train, y_test = train_test_split(X, y, test_size=0.2, random_state=42)"
   ]
  },
  {
   "cell_type": "code",
   "execution_count": null,
   "id": "ff3ad541",
   "metadata": {},
   "outputs": [],
   "source": [
    "# Scale features\n",
    "scaler = StandardScaler()\n",
    "X_train_scaled = scaler.fit_transform(X_train)\n",
    "X_test_scaled = scaler.transform(X_test)"
   ]
  },
  {
   "cell_type": "code",
   "execution_count": null,
   "id": "3e30c7bf",
   "metadata": {},
   "outputs": [],
   "source": [
    "# Stochastic Gradient Descent\n",
    "sgd_stochastic = SGDRegressor(\n",
    "    loss='squared_error',\n",
    "    learning_rate='constant',\n",
    "    eta0=0.0001,  # Smaller learning rate for stability\n",
    "    max_iter=1,   # Single pass per fit call\n",
    "    tol=None,     # No early stopping\n",
    "    shuffle=True,\n",
    "    random_state=42\n",
    ")\n",
    "\n",
    "# Simulate SGD by iterating over single samples\n",
    "n_samples = X_train_scaled.shape[0]\n",
    "for i in range(100):  # Simulate 100 iterations\n",
    "    idx = np.random.randint(0, n_samples)  # Random sample\n",
    "    X_sample = X_train_scaled[idx:idx+1]\n",
    "    y_sample = y_train[idx:idx+1]\n",
    "    sgd_stochastic.partial_fit(X_sample, y_sample)"
   ]
  },
  {
   "cell_type": "code",
   "execution_count": null,
   "id": "a252101e",
   "metadata": {},
   "outputs": [],
   "source": [
    "# Predict and evaluate\n",
    "y_pred_stochastic = sgd_stochastic.predict(X_test_scaled)\n",
    "mse_stochastic = mean_squared_error(y_test, y_pred_stochastic)\n",
    "print(f\"Stochastic Gradient Descent MSE: {mse_stochastic:.4f}\")\n"
   ]
  },
  {
   "cell_type": "code",
   "execution_count": null,
   "id": "1f188c64",
   "metadata": {},
   "outputs": [],
   "source": [
    "# Coefficients and intercept\n",
    "print(f\"Coefficients: {sgd_stochastic.coef_}\")\n",
    "print(f\"Intercept: {sgd_stochastic.intercept_}\")"
   ]
  },
  {
   "cell_type": "markdown",
   "id": "b022eeab",
   "metadata": {},
   "source": [
    "# Stochastic Gradient Descent with Ridge and Lasso Regression"
   ]
  },
  {
   "cell_type": "code",
   "execution_count": null,
   "id": "19ca53c1",
   "metadata": {},
   "outputs": [],
   "source": [
    "# Lasso Regression with Stochastic Gradient Descent\n",
    "lasso_sgd = SGDRegressor(loss='squared_error', penalty='l1', alpha=0.01, \n",
    "                         learning_rate='constant', eta0=0.01, max_iter=1, \n",
    "                         random_state=42, shuffle=True)\n",
    "lasso_sgd.fit(X_train_scaled, y_train)\n",
    "y_pred_lasso_sgd = lasso_sgd.predict(X_test_scaled)\n",
    "lasso_sgd_mse = mean_squared_error(y_test, y_pred_lasso_sgd)\n",
    "print(f\"Lasso (SGD) MSE: {lasso_sgd_mse:.4f}\")\n",
    "\n",
    "\n",
    "# Ridge Regression with Stochastic Gradient Descent\n",
    "ridge_sgd = SGDRegressor(loss='squared_error', penalty='l2', alpha=0.01, \n",
    "                         learning_rate='constant', eta0=0.01, max_iter=1, \n",
    "                         random_state=42, shuffle=True)\n",
    "ridge_sgd.fit(X_train_scaled, y_train)\n",
    "y_pred_ridge_sgd = ridge_sgd.predict(X_test_scaled)\n",
    "ridge_sgd_mse = mean_squared_error(y_test, y_pred_ridge_sgd)\n",
    "print(f\"Ridge (SGD) MSE: {ridge_sgd_mse:.4f}\")\n"
   ]
  }
 ],
 "metadata": {
  "kernelspec": {
   "display_name": "Master",
   "language": "python",
   "name": "python3"
  },
  "language_info": {
   "codemirror_mode": {
    "name": "ipython",
    "version": 3
   },
   "file_extension": ".py",
   "mimetype": "text/x-python",
   "name": "python",
   "nbconvert_exporter": "python",
   "pygments_lexer": "ipython3",
   "version": "3.11.4"
  }
 },
 "nbformat": 4,
 "nbformat_minor": 5
}
