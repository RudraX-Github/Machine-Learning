{
 "cells": [
  {
   "cell_type": "code",
   "execution_count": null,
   "id": "49efcf95",
   "metadata": {},
   "outputs": [],
   "source": [
    "from sklearn.datasets import fetch_california_housing\n",
    "from sklearn.model_selection import train_test_split\n",
    "from sklearn.preprocessing import StandardScaler\n",
    "from sklearn.linear_model import SGDRegressor\n",
    "from sklearn.metrics import mean_squared_error\n",
    "from typing import Literal\n",
    "import numpy as np"
   ]
  },
  {
   "cell_type": "code",
   "execution_count": null,
   "id": "3abc902b",
   "metadata": {},
   "outputs": [],
   "source": [
    "# Load California Housing dataset\n",
    "california = fetch_california_housing()\n",
    "X, y = california.data, california.target"
   ]
  },
  {
   "cell_type": "code",
   "execution_count": null,
   "id": "6b2c6c16",
   "metadata": {},
   "outputs": [],
   "source": [
    "# Split data into training and testing sets\n",
    "X_train, X_test, y_train, y_test = train_test_split(X, y, test_size=0.2, random_state=42)"
   ]
  },
  {
   "cell_type": "code",
   "execution_count": null,
   "id": "ff3ad541",
   "metadata": {},
   "outputs": [],
   "source": [
    "# Scale features\n",
    "scaler = StandardScaler()\n",
    "X_train_scaled = scaler.fit_transform(X_train)\n",
    "X_test_scaled = scaler.transform(X_test)"
   ]
  },
  {
   "cell_type": "code",
   "execution_count": null,
   "id": "0c127274",
   "metadata": {},
   "outputs": [],
   "source": [
    "# Mini-Batch Gradient Descent\n",
    "sgd_mini_batch = SGDRegressor(\n",
    "    loss='squared_error',\n",
    "    learning_rate='constant',\n",
    "    eta0=0.005,  # Moderate learning rate\n",
    "    max_iter=1,  # Single pass per fit call\n",
    "    tol=None,\n",
    "    shuffle=True,\n",
    "    random_state=42\n",
    ")\n",
    "\n",
    "# Mini-batch settings\n",
    "batch_size = 5\n",
    "n_samples = X_train_scaled.shape[0]\n",
    "n_iterations = 50\n",
    "\n",
    "# Simulate mini-batch updates\n",
    "for i in range(n_iterations):\n",
    "    indices = np.random.choice(n_samples, batch_size, replace=False)\n",
    "    X_batch = X_train_scaled[indices]\n",
    "    y_batch = y_train[indices]\n",
    "    sgd_mini_batch.partial_fit(X_batch, y_batch)\n"
   ]
  },
  {
   "cell_type": "code",
   "execution_count": null,
   "id": "48856448",
   "metadata": {},
   "outputs": [],
   "source": [
    "# Predict and evaluate\n",
    "y_pred_mini_batch = sgd_mini_batch.predict(X_test_scaled)\n",
    "mse_mini_batch = mean_squared_error(y_test, y_pred_mini_batch)\n",
    "print(f\"Mini-Batch Gradient Descent MSE: {mse_mini_batch:.4f}\")"
   ]
  },
  {
   "cell_type": "code",
   "execution_count": null,
   "id": "b45e46bc",
   "metadata": {},
   "outputs": [],
   "source": [
    "# Coefficients and intercept\n",
    "print(f\"Coefficients: {sgd_mini_batch.coef_}\")\n",
    "print(f\"Intercept: {sgd_mini_batch.intercept_}\")"
   ]
  },
  {
   "cell_type": "markdown",
   "id": "82689d2c",
   "metadata": {},
   "source": [
    "# Mini-Batch Gradient Descent with Ridge and Lasso Regression"
   ]
  },
  {
   "cell_type": "code",
   "execution_count": null,
   "id": "4d310149",
   "metadata": {},
   "outputs": [],
   "source": [
    "# Custom Mini-Batch Gradient Descent\n",
    "def mini_batch_sgd(\n",
    "    X, \n",
    "    y, \n",
    "    batch_size=32, \n",
    "    penalty: Literal['l2', 'l1', 'elasticnet'] = 'l2', \n",
    "    alpha=0.01, \n",
    "    eta0=0.01, \n",
    "    max_iter=1000\n",
    "):\n",
    "    n_samples = X.shape[0]\n",
    "    model = SGDRegressor(loss='squared_error',penalty=penalty, alpha=alpha, \n",
    "                         learning_rate='constant', eta0=eta0, max_iter=1, \n",
    "                         random_state=42, shuffle=False)\n",
    "    \n",
    "    for epoch in range(max_iter):\n",
    "        indices = np.random.permutation(n_samples)\n",
    "        for start_idx in range(0, n_samples, batch_size):\n",
    "            batch_indices = indices[start_idx:start_idx + batch_size]\n",
    "            X_batch = X[batch_indices]\n",
    "            y_batch = y[batch_indices]\n",
    "            model.partial_fit(X_batch, y_batch)\n",
    "    return model\n",
    "\n",
    "# Ridge Regression with Mini-Batch Gradient Descent\n",
    "ridge_mini = mini_batch_sgd(X_train_scaled, y_train, batch_size=32, penalty='l2')\n",
    "y_pred_ridge_mini = ridge_mini.predict(X_test_scaled)\n",
    "ridge_mini_mse = mean_squared_error(y_test, y_pred_ridge_mini)\n",
    "print(f\"Ridge (Mini-Batch GD) MSE: {ridge_mini_mse:.4f}\")\n",
    "\n",
    "# Lasso Regression with Mini-Batch Gradient Descent\n",
    "lasso_mini = mini_batch_sgd(X_train_scaled, y_train, batch_size=32, penalty='l1')\n",
    "y_pred_lasso_mini = lasso_mini.predict(X_test_scaled)\n",
    "lasso_mini_mse = mean_squared_error(y_test, y_pred_lasso_mini)\n",
    "print(f\"Lasso (Mini-Batch GD) MSE: {lasso_mini_mse:.4f}\")"
   ]
  }
 ],
 "metadata": {
  "kernelspec": {
   "display_name": "Master",
   "language": "python",
   "name": "python3"
  },
  "language_info": {
   "codemirror_mode": {
    "name": "ipython",
    "version": 3
   },
   "file_extension": ".py",
   "mimetype": "text/x-python",
   "name": "python",
   "nbconvert_exporter": "python",
   "pygments_lexer": "ipython3",
   "version": "3.11.4"
  }
 },
 "nbformat": 4,
 "nbformat_minor": 5
}
