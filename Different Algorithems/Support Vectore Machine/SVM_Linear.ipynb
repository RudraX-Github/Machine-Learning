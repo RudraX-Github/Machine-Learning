{
 "cells": [
  {
   "cell_type": "code",
   "execution_count": 1,
   "id": "30ce02a9",
   "metadata": {},
   "outputs": [],
   "source": [
    "import numpy as np\n",
    "from sklearn.datasets import load_breast_cancer\n",
    "from sklearn.model_selection import train_test_split\n",
    "from sklearn.svm import SVC # Import Support Vector Classifier\n",
    "from sklearn.metrics import accuracy_score, confusion_matrix, classification_report\n"
   ]
  },
  {
   "cell_type": "code",
   "execution_count": 2,
   "id": "64a26f1e",
   "metadata": {},
   "outputs": [
    {
     "name": "stdout",
     "output_type": "stream",
     "text": [
      "Loading the Breast Cancer dataset...\n",
      "Dataset loaded. Number of samples: 569, Number of features: 30\n",
      "Target classes: ['malignant' 'benign']\n"
     ]
    }
   ],
   "source": [
    "# Load the Dataset\n",
    "\n",
    "print(\"Loading the Breast Cancer dataset...\")\n",
    "data = load_breast_cancer()\n",
    "X = data.data\n",
    "y = data.target\n",
    "print(f\"Dataset loaded. Number of samples: {X.shape[0]}, Number of features: {X.shape[1]}\")\n",
    "print(f\"Target classes: {data.target_names}\")\n"
   ]
  },
  {
   "cell_type": "code",
   "execution_count": 3,
   "id": "918b7f6e",
   "metadata": {},
   "outputs": [
    {
     "name": "stdout",
     "output_type": "stream",
     "text": [
      "\n",
      "Splitting data into training and testing sets...\n",
      "Training samples: 398, Testing samples: 171\n"
     ]
    }
   ],
   "source": [
    "# Split the Data into Training and Testing Sets\n",
    "\n",
    "print(\"\\nSplitting data into training and testing sets...\")\n",
    "X_train, X_test, y_train, y_test = train_test_split(X, y, test_size=0.3, random_state=42)\n",
    "print(f\"Training samples: {X_train.shape[0]}, Testing samples: {X_test.shape[0]}\")\n"
   ]
  },
  {
   "cell_type": "code",
   "execution_count": 4,
   "id": "bf4a4bad",
   "metadata": {},
   "outputs": [
    {
     "name": "stdout",
     "output_type": "stream",
     "text": [
      "\n",
      "Training the Support Vector Machine (SVM) model with a Linear Kernel...\n",
      "Model training complete.\n"
     ]
    }
   ],
   "source": [
    "# Train the Support Vector Machine (SVM) Model with a Linear Kernel\n",
    "print(\"\\nTraining the Support Vector Machine (SVM) model with a Linear Kernel...\")\n",
    "svm_linear_model = SVC(kernel='linear', random_state=42)\n",
    "svm_linear_model.fit(X_train, y_train)\n",
    "print(\"Model training complete.\")\n"
   ]
  },
  {
   "cell_type": "code",
   "execution_count": 5,
   "id": "fa4b49cb",
   "metadata": {},
   "outputs": [
    {
     "name": "stdout",
     "output_type": "stream",
     "text": [
      "\n",
      "Making predictions on the test set...\n"
     ]
    }
   ],
   "source": [
    "# Make Predictions\n",
    "\n",
    "print(\"\\nMaking predictions on the test set...\")\n",
    "y_pred = svm_linear_model.predict(X_test)\n"
   ]
  },
  {
   "cell_type": "code",
   "execution_count": 6,
   "id": "3f1c299e",
   "metadata": {},
   "outputs": [
    {
     "data": {
      "text/plain": [
       "array([1, 0, 0, 1, 1, 0, 0, 0, 1, 1, 1, 0, 1, 0, 1, 0, 1, 1, 1, 0, 1, 1,\n",
       "       0, 1, 1, 1, 1, 1, 1, 0, 1, 1, 1, 1, 1, 1, 0, 1, 0, 1, 1, 0, 1, 1,\n",
       "       1, 1, 1, 1, 1, 1, 0, 0, 1, 1, 1, 1, 1, 0, 1, 1, 1, 0, 0, 1, 1, 1,\n",
       "       0, 0, 1, 1, 0, 0, 1, 0, 1, 1, 1, 1, 1, 1, 0, 1, 1, 0, 0, 0, 0, 0,\n",
       "       1, 1, 1, 1, 1, 1, 1, 1, 0, 0, 1, 0, 0, 1, 0, 0, 1, 1, 1, 0, 1, 1,\n",
       "       0, 1, 0, 0, 1, 0, 1, 1, 1, 0, 0, 1, 1, 0, 1, 0, 0, 1, 1, 0, 0, 0,\n",
       "       1, 1, 1, 0, 1, 1, 1, 0, 1, 0, 1, 1, 0, 1, 0, 0, 0, 1, 0, 1, 1, 1,\n",
       "       1, 0, 0, 1, 1, 1, 1, 1, 1, 1, 0, 1, 1, 1, 1, 0, 1])"
      ]
     },
     "execution_count": 6,
     "metadata": {},
     "output_type": "execute_result"
    }
   ],
   "source": [
    "y_pred"
   ]
  },
  {
   "cell_type": "code",
   "execution_count": 7,
   "id": "adc54917",
   "metadata": {},
   "outputs": [
    {
     "name": "stdout",
     "output_type": "stream",
     "text": [
      "\n",
      "Accuracy: 0.9649\n",
      "\n",
      "Confusion Matrix:\n",
      "[[ 59   4]\n",
      " [  2 106]]\n",
      "\n",
      "Type 1 Error (False Positives): 4\n",
      "Type 2 Error (False Negatives): 2\n"
     ]
    }
   ],
   "source": [
    "# Evaluate the Model Performance for Classification\n",
    "\n",
    "# Accuracy Score\n",
    "\n",
    "accuracy = accuracy_score(y_test, y_pred)\n",
    "print(f\"\\nAccuracy: {accuracy:.4f}\")\n",
    "\n",
    "# Confusion Matrix\n",
    "cm = confusion_matrix(y_test, y_pred)\n",
    "print(\"\\nConfusion Matrix:\")\n",
    "print(cm)\n",
    "\n",
    "# Type 1 Error (False Positive - FP): Predicting positive when it's actually negative.\n",
    "type_1_error = cm[0, 1]\n",
    "print(f\"\\nType 1 Error (False Positives): {type_1_error}\")\n",
    "\n",
    "# Type 2 Error (False Negative - FN): Predicting negative when it's actually positive.\n",
    "type_2_error = cm[1, 0]\n",
    "print(f\"Type 2 Error (False Negatives): {type_2_error}\")"
   ]
  },
  {
   "cell_type": "code",
   "execution_count": 8,
   "id": "eb986ff9",
   "metadata": {},
   "outputs": [
    {
     "name": "stdout",
     "output_type": "stream",
     "text": [
      "\n",
      "Classification Report (Precision, Recall, F1-Score):\n",
      "              precision    recall  f1-score   support\n",
      "\n",
      "   malignant       0.97      0.94      0.95        63\n",
      "      benign       0.96      0.98      0.97       108\n",
      "\n",
      "    accuracy                           0.96       171\n",
      "   macro avg       0.97      0.96      0.96       171\n",
      "weighted avg       0.96      0.96      0.96       171\n",
      "\n"
     ]
    }
   ],
   "source": [
    "# Precision, Recall, and F1-Score\n",
    "print(\"\\nClassification Report (Precision, Recall, F1-Score):\")\n",
    "print(classification_report(y_test, y_pred, target_names=data.target_names))"
   ]
  }
 ],
 "metadata": {
  "kernelspec": {
   "display_name": "Master",
   "language": "python",
   "name": "python3"
  },
  "language_info": {
   "codemirror_mode": {
    "name": "ipython",
    "version": 3
   },
   "file_extension": ".py",
   "mimetype": "text/x-python",
   "name": "python",
   "nbconvert_exporter": "python",
   "pygments_lexer": "ipython3",
   "version": "3.11.4"
  }
 },
 "nbformat": 4,
 "nbformat_minor": 5
}
