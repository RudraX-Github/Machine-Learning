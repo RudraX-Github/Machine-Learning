{
 "cells": [
  {
   "cell_type": "code",
   "execution_count": null,
   "id": "7a5780f1",
   "metadata": {},
   "outputs": [],
   "source": [
    "import numpy as np\n",
    "from sklearn.datasets import load_breast_cancer\n",
    "from sklearn.model_selection import train_test_split\n",
    "from sklearn.tree import DecisionTreeClassifier\n",
    "from sklearn.metrics import accuracy_score, confusion_matrix, classification_report"
   ]
  },
  {
   "cell_type": "code",
   "execution_count": null,
   "id": "a21789f1",
   "metadata": {},
   "outputs": [],
   "source": [
    "# Load the Dataset\n",
    "print(\"Loading the Breast Cancer dataset...\")\n",
    "data = load_breast_cancer()\n",
    "X = data.data\n",
    "y = data.target\n",
    "print(f\"Dataset loaded. Number of samples: {X.shape[0]}, Number of features: {X.shape[1]}\")\n",
    "print(f\"Target classes: {data.target_names}\")"
   ]
  },
  {
   "cell_type": "code",
   "execution_count": null,
   "id": "fc112773",
   "metadata": {},
   "outputs": [],
   "source": [
    "# Split the Data into Training and Testing Sets\n",
    "print(\"\\nSplitting data into training and testing sets...\")\n",
    "X_train, X_test, y_train, y_test = train_test_split(X, y, test_size=0.3, random_state=42)\n",
    "print(f\"Training samples: {X_train.shape[0]}, Testing samples: {X_test.shape[0]}\")"
   ]
  },
  {
   "cell_type": "code",
   "execution_count": null,
   "id": "651ee395",
   "metadata": {},
   "outputs": [],
   "source": [
    "# Train the Decision Tree Classifier Model\n",
    "print(\"\\nTraining the Decision Tree Classifier model...\")\n",
    "dt_classifier = DecisionTreeClassifier(random_state=42) # You can add parameters like max_depth=5\n",
    "dt_classifier.fit(X_train, y_train)\n",
    "print(\"Model training complete.\")"
   ]
  },
  {
   "cell_type": "code",
   "execution_count": null,
   "id": "ceeef8af",
   "metadata": {},
   "outputs": [],
   "source": [
    "# Make Predictions\n",
    "print(\"\\nMaking predictions on the test set...\")\n",
    "y_pred = dt_classifier.predict(X_test)"
   ]
  },
  {
   "cell_type": "code",
   "execution_count": null,
   "id": "dc842260",
   "metadata": {},
   "outputs": [],
   "source": [
    "y_pred"
   ]
  },
  {
   "cell_type": "code",
   "execution_count": null,
   "id": "a790528f",
   "metadata": {},
   "outputs": [],
   "source": [
    "# Evaluate the Model Performance for Classification\n",
    "\n",
    "# Accuracy Score\n",
    "accuracy = accuracy_score(y_test, y_pred)\n",
    "print(f\"\\nAccuracy: {accuracy:.4f}\")\n",
    "\n",
    "# Confusion Matrix\n",
    "cm = confusion_matrix(y_test, y_pred)\n",
    "print(\"\\nConfusion Matrix:\")\n",
    "print(cm)\n",
    "\n",
    "# Type 1 Error (False Positive - FP): Predicting positive when it's actually negative.\n",
    "type_1_error = cm[0, 1]\n",
    "print(f\"\\nType 1 Error (False Positives): {type_1_error}\")\n",
    "\n",
    "# Type 2 Error (False Negative - FN): Predicting negative when it's actually positive.\n",
    "type_2_error = cm[1, 0]\n",
    "print(f\"Type 2 Error (False Negatives): {type_2_error}\")"
   ]
  },
  {
   "cell_type": "code",
   "execution_count": null,
   "id": "98f4e50e",
   "metadata": {},
   "outputs": [],
   "source": [
    "# Precision, Recall, and F1-Score\n",
    "print(\"\\nClassification Report (Precision, Recall, F1-Score):\")\n",
    "print(classification_report(y_test, y_pred, target_names=data.target_names))"
   ]
  },
  {
   "cell_type": "code",
   "execution_count": null,
   "id": "db2873c7",
   "metadata": {},
   "outputs": [],
   "source": []
  }
 ],
 "metadata": {
  "kernelspec": {
   "display_name": "Master",
   "language": "python",
   "name": "python3"
  },
  "language_info": {
   "codemirror_mode": {
    "name": "ipython",
    "version": 3
   },
   "file_extension": ".py",
   "mimetype": "text/x-python",
   "name": "python",
   "nbconvert_exporter": "python",
   "pygments_lexer": "ipython3",
   "version": "3.11.4"
  }
 },
 "nbformat": 4,
 "nbformat_minor": 5
}
