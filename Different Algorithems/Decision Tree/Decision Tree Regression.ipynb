{
 "cells": [
  {
   "cell_type": "code",
   "execution_count": null,
   "id": "0aed0a91",
   "metadata": {},
   "outputs": [],
   "source": [
    "import numpy as np\n",
    "from sklearn.datasets import fetch_california_housing\n",
    "from sklearn.model_selection import train_test_split\n",
    "from sklearn.tree import DecisionTreeRegressor\n",
    "from sklearn.metrics import mean_squared_error, r2_score"
   ]
  },
  {
   "cell_type": "code",
   "execution_count": null,
   "id": "40827841",
   "metadata": {},
   "outputs": [],
   "source": [
    "# Load the Dataset\n",
    "print(\"Loading the California Housing dataset...\")\n",
    "data = fetch_california_housing()\n",
    "X = data.data\n",
    "y = data.target\n",
    "print(f\"Dataset loaded. Number of samples: {X.shape[0]}, Number of features: {X.shape[1]}\")\n",
    "print(\"Target variable: Median House Value (in hundreds of thousands of dollars)\")\n"
   ]
  },
  {
   "cell_type": "code",
   "execution_count": null,
   "id": "77fc0dd4",
   "metadata": {},
   "outputs": [],
   "source": [
    "# Split the Data into Training and Testing Sets\n",
    "print(\"\\nSplitting data into training and testing sets...\")\n",
    "X_train, X_test, y_train, y_test = train_test_split(X, y, test_size=0.3, random_state=42)\n",
    "print(f\"Training samples: {X_train.shape[0]}, Testing samples: {X_test.shape[0]}\")"
   ]
  },
  {
   "cell_type": "code",
   "execution_count": 4,
   "id": "2c3ec65d",
   "metadata": {},
   "outputs": [
    {
     "name": "stdout",
     "output_type": "stream",
     "text": [
      "\n",
      "Training the Decision Tree Regressor model...\n",
      "Model training complete.\n"
     ]
    }
   ],
   "source": [
    "# Train the Decision Tree Regressor Model\n",
    "print(\"\\nTraining the Decision Tree Regressor model...\")\n",
    "dt_model = DecisionTreeRegressor(random_state=42) # You can add parameters like max_depth=5\n",
    "dt_model.fit(X_train, y_train)\n",
    "print(\"Model training complete.\")"
   ]
  },
  {
   "cell_type": "code",
   "execution_count": 5,
   "id": "e4d4c544",
   "metadata": {},
   "outputs": [
    {
     "name": "stdout",
     "output_type": "stream",
     "text": [
      "\n",
      "Making predictions on the test set...\n"
     ]
    }
   ],
   "source": [
    "# Make Predictions\n",
    "print(\"\\nMaking predictions on the test set...\")\n",
    "y_pred = dt_model.predict(X_test)"
   ]
  },
  {
   "cell_type": "code",
   "execution_count": 6,
   "id": "85b9a7fe",
   "metadata": {},
   "outputs": [
    {
     "data": {
      "text/plain": [
       "array([0.425  , 0.722  , 5.00001, ..., 2.167  , 1.293  , 2.221  ])"
      ]
     },
     "execution_count": 6,
     "metadata": {},
     "output_type": "execute_result"
    }
   ],
   "source": [
    "y_pred"
   ]
  },
  {
   "cell_type": "code",
   "execution_count": 7,
   "id": "a2a775e6",
   "metadata": {},
   "outputs": [
    {
     "name": "stdout",
     "output_type": "stream",
     "text": [
      "\n",
      "Mean Squared Error (MSE): 0.5280\n",
      "Root Mean Squared Error (RMSE): 0.7266\n",
      "R-squared ($R^2$) Score: 0.5977\n"
     ]
    }
   ],
   "source": [
    "# Evaluate the Model Performance for Regression\n",
    "\n",
    "# Mean Squared Error (MSE)\n",
    "mse = mean_squared_error(y_test, y_pred)\n",
    "print(f\"\\nMean Squared Error (MSE): {mse:.4f}\")\n",
    "\n",
    "# Root Mean Squared Error (RMSE)\n",
    "rmse = np.sqrt(mse)\n",
    "print(f\"Root Mean Squared Error (RMSE): {rmse:.4f}\")\n",
    "\n",
    "# R-squared ($R^2$) Score\n",
    "r2 = r2_score(y_test, y_pred)\n",
    "print(f\"R-squared ($R^2$) Score: {r2:.4f}\")"
   ]
  }
 ],
 "metadata": {
  "kernelspec": {
   "display_name": "Master",
   "language": "python",
   "name": "python3"
  },
  "language_info": {
   "codemirror_mode": {
    "name": "ipython",
    "version": 3
   },
   "file_extension": ".py",
   "mimetype": "text/x-python",
   "name": "python",
   "nbconvert_exporter": "python",
   "pygments_lexer": "ipython3",
   "version": "3.11.4"
  }
 },
 "nbformat": 4,
 "nbformat_minor": 5
}
